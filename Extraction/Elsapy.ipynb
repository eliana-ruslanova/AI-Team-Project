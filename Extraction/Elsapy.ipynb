{
 "cells": [
  {
   "cell_type": "code",
   "execution_count": 26,
   "metadata": {},
   "outputs": [
    {
     "ename": "ModuleNotFoundError",
     "evalue": "No module named 'elsapy'",
     "output_type": "error",
     "traceback": [
      "\u001b[0;31m---------------------------------------------------------------------------\u001b[0m",
      "\u001b[0;31mModuleNotFoundError\u001b[0m                       Traceback (most recent call last)",
      "\u001b[0;32m<ipython-input-26-9b72a40dc3dd>\u001b[0m in \u001b[0;36m<module>\u001b[0;34m\u001b[0m\n\u001b[1;32m      1\u001b[0m \u001b[0;34m\"\"\"An example program that uses the elsapy module\"\"\"\u001b[0m\u001b[0;34m\u001b[0m\u001b[0;34m\u001b[0m\u001b[0m\n\u001b[1;32m      2\u001b[0m \u001b[0;34m\u001b[0m\u001b[0m\n\u001b[0;32m----> 3\u001b[0;31m \u001b[0;32mfrom\u001b[0m \u001b[0melsapy\u001b[0m\u001b[0;34m.\u001b[0m\u001b[0melsclient\u001b[0m \u001b[0;32mimport\u001b[0m \u001b[0mElsClient\u001b[0m\u001b[0;34m\u001b[0m\u001b[0;34m\u001b[0m\u001b[0m\n\u001b[0m\u001b[1;32m      4\u001b[0m \u001b[0;32mfrom\u001b[0m \u001b[0melsapy\u001b[0m\u001b[0;34m.\u001b[0m\u001b[0melsprofile\u001b[0m \u001b[0;32mimport\u001b[0m \u001b[0mElsAuthor\u001b[0m\u001b[0;34m,\u001b[0m \u001b[0mElsAffil\u001b[0m\u001b[0;34m\u001b[0m\u001b[0;34m\u001b[0m\u001b[0m\n\u001b[1;32m      5\u001b[0m \u001b[0;32mfrom\u001b[0m \u001b[0melsapy\u001b[0m\u001b[0;34m.\u001b[0m\u001b[0melsdoc\u001b[0m \u001b[0;32mimport\u001b[0m \u001b[0mFullDoc\u001b[0m\u001b[0;34m,\u001b[0m \u001b[0mAbsDoc\u001b[0m\u001b[0;34m\u001b[0m\u001b[0;34m\u001b[0m\u001b[0m\n",
      "\u001b[0;31mModuleNotFoundError\u001b[0m: No module named 'elsapy'"
     ]
    }
   ],
   "source": [
    "\"\"\"An example program that uses the elsapy module\"\"\"\n",
    "\n",
    "from elsapy.elsclient import ElsClient\n",
    "from elsapy.elsprofile import ElsAuthor, ElsAffil\n",
    "from elsapy.elsdoc import FullDoc, AbsDoc\n",
    "from elsapy.elssearch import ElsSearch\n",
    "import json\n",
    "    \n",
    "## Load configuration\n",
    "con_file = open(\"config.json\")\n",
    "config = json.load(con_file)\n",
    "con_file.close()"
   ]
  },
  {
   "cell_type": "code",
   "execution_count": 5,
   "metadata": {},
   "outputs": [
    {
     "ename": "NameError",
     "evalue": "name 'ElsClient' is not defined",
     "output_type": "error",
     "traceback": [
      "\u001b[0;31m---------------------------------------------------------------------------\u001b[0m",
      "\u001b[0;31mNameError\u001b[0m                                 Traceback (most recent call last)",
      "\u001b[0;32m<ipython-input-5-27a5579276e9>\u001b[0m in \u001b[0;36m<module>\u001b[0;34m\u001b[0m\n\u001b[1;32m      1\u001b[0m \u001b[0;31m## Initialize client\u001b[0m\u001b[0;34m\u001b[0m\u001b[0;34m\u001b[0m\u001b[0;34m\u001b[0m\u001b[0m\n\u001b[0;32m----> 2\u001b[0;31m \u001b[0mclient\u001b[0m \u001b[0;34m=\u001b[0m \u001b[0mElsClient\u001b[0m\u001b[0;34m(\u001b[0m\u001b[0mconfig\u001b[0m\u001b[0;34m[\u001b[0m\u001b[0;34m'apikey'\u001b[0m\u001b[0;34m]\u001b[0m\u001b[0;34m)\u001b[0m\u001b[0;34m\u001b[0m\u001b[0;34m\u001b[0m\u001b[0m\n\u001b[0m\u001b[1;32m      3\u001b[0m \u001b[0;31m#client.inst_token = config['insttoken']\u001b[0m\u001b[0;34m\u001b[0m\u001b[0;34m\u001b[0m\u001b[0;34m\u001b[0m\u001b[0m\n",
      "\u001b[0;31mNameError\u001b[0m: name 'ElsClient' is not defined"
     ]
    }
   ],
   "source": [
    "## Initialize client\n",
    "client = ElsClient(config['apikey'])\n",
    "#client.inst_token = config['insttoken']"
   ]
  },
  {
   "cell_type": "code",
   "execution_count": 24,
   "metadata": {},
   "outputs": [
    {
     "name": "stdout",
     "output_type": "stream",
     "text": [
      "['10.1016/j.jep.2011.08.069', '10.1117/1.3646916', '10.1109/TPAMI.2010.194', '10.1016/j.neuroimage.2011.05.084', '10.3390/s110404137', '10.1037/a0022988', '10.3382/japr.2010-00266', '10.1007/s00268-010-0938-x', '10.1016/j.beproc.2011.10.004', '10.1245/s10434-011-1790-4', '10.1016/j.chemosphere.2011.06.059', '10.1016/j.eururo.2011.01.045', '10.1001/archsurg.2010.246', '10.1007/s00464-011-1657-6', '10.1007/s00404-011-1999-2', '10.1088/1741-2560/8/6/065010', '10.1007/s00216-011-5402-8', '10.1021/es202245f', '10.1007/s11571-011-9186-5', '10.1371/journal.pone.0019784', '\\n10.1016/j.scitotenv.2010.12.039', '10.1109/TNN.2011.2175748', '10.1109/TCBB.2011.30', '10.1007/978-3-642-22092-0_25', '10.1016/j.neuroimage.2011.08.031', '10.1016/j.jtbi.2010.11.026', '10.1016/j.biosystems.2011.03.006', '10.1016/j.neuroimage.2011.10.015', '10.3390/s110908626', '10.1109/TSMCB.2010.2082525', '10.1039/c1mb05102d', '10.1016/j.artmed.2011.09.003', '10.1074/mcp.M111.012161', '10.1016/j.aap.2011.04.011', '10.1109/ICORR.2011.5975381', '10.1517/17425255.2011.611501', '10.1016/j.neuroimage.2010.09.074', '10.1186/1752-0509-5-122', '10.1089/dia.2010.0104', '10.1109/IEMBS.2011.6091764', '10.1109/IEMBS.2011.6091553', '10.1109/TNSRE.2010.2091429', '10.1117/1.3642010', '10.1109/TNSRE.2010.2069104', '10.1523/JNEUROSCI.2091-11.2011', '10.1109/TITB.2010.2095463', '10.1007/978-3-642-23623-5_28', '10.1186/1471-2105-12-424', '10.1093/rpd/ncq530', '10.1109/TIP.2011.2172800', '10.1016/j.compbiomed.2010.10.010', '10.1016/j.cmpb.2011.06.007', '10.1093/schbul/sbr145', '10.1111/j.1469-8986.2010.01155.x', '10.1109/TIP.2011.2179054', '10.1162/EVCO_a_00048', '10.1111/j.1468-3083.2010.03834.x', '10.1136/amiajnl-2011-000415', '10.1109/TBME.2010.2093576', '10.1109/TBME.2011.2119484', '10.1371/journal.pbio.1000615', '10.1016/j.ridd.2011.07.004', '10.1002/mrm.22584', '10.1109/TMI.2010.2091513', '10.1007/s11548-011-0645-6', '10.1016/j.jbi.2011.01.004', '10.1016/j.ijmedinf.2011.02.008', '10.1016/j.plaphy.2011.01.002', '10.1109/TCBB.2009.48', '10.1109/TITB.2011.2107916', '10.1016/j.neuroimage.2011.03.027', '10.1109/TIP.2010.2076820', '10.1016/j.media.2011.11.008', '10.1016/j.aap.2011.03.014', '10.1186/1471-2105-12-329', '10.1093/bioinformatics/btr204', '10.1142/9789814335058_0007', '10.1118/1.3539749', '10.1016/j.mri.2010.07.004', '10.2217/pgs.11.76', '10.1016/j.jaci.2011.02.039', '10.1016/j.jtbi.2010.10.037', '10.1109/TMI.2010.2094200', '10.1109/IEMBS.2011.6091962', '10.1109/IEMBS.2011.6091480', '10.1093/bioinformatics/btr263', '10.1016/j.ygeno.2011.04.011', '10.1118/1.3562898', '10.1002/bip.21589', '10.1371/journal.pone.0028507', '10.1007/978-3-642-22092-0_40', '10.1016/j.media.2011.01.002', '10.1007/978-3-642-22092-0_3', '10.1016/j.isatra.2010.10.005', '10.1016/j.jtcvs.2011.10.046', '10.1016/j.jtcvs.2011.06.023', '10.1371/journal.pone.0022513', '10.1016/j.eururo.2011.08.040', '10.1016/j.eururo.2011.12.027', '10.1016/j.urology.2011.08.045', '10.1111/j.1742-4658.2011.08177.x', '10.1007/s00405-011-1838-x', '10.1007/s10661-010-1763-2', '10.3414/ME11-01-0060', '10.1109/TIP.2011.2160955', '10.1093/protein/gzr036', '10.1186/1746-1596-6-S1-S19', '10.1155/2012/769702', '10.3233/CBM-2012-0229', '10.1007/s00427-011-0378-0', 'PMID:22320970', '10.1093/molbev/msr222', '10.1089/dia.2011.0093', '10.1016/j.jplph.2011.01.013', '10.1016/j.eururo.2011.05.011', '10.1007/s12011-011-9306-4', '10.1007/s00423-011-0852-1', '10.1016/j.procs.2011.04.219', '\\n10.1371/journal.pone.0080550', '10.1371/journal.pone.0077263', '10.1159/000354352', '10.1684/bdc.2013.1829', '10.1371/journal.pone.0082156', '10.1186/1471-2164-14-702', '10.1002/pds.3351', '10.1002/jmri.24390', '10.1007/s00464-012-2655-z', '10.1093/pcp/pct057', '10.1016/j.eururo.2013.05.020', '10.1111/jcmm.12205', '10.1097/BRS.0b013e31826b3d72', '10.1371/journal.pone.0066539', '10.1111/j.1477-2574.2012.00589.x', 'PMID:23783051', '10.1016/j.urology.2012.12.053', '10.1002/hed.23238', '10.1002/lary.23621', '\\n10.1037/a0029759', '10.1016/j.ejso.2012.10.001', '10.1021/ct400383v', '10.1111/cogs.12062', '10.1101/gr.144899.112', '10.1371/journal.pone.0059558', '10.1111/j.1464-410X.2013.11798.x', '10.1016/j.eururo.2013.05.050', '10.1016/j.foodchem.2013.08.097', '10.1371/journal.pone.0079720', '10.1111/j.1464-410X.2012.11487.x', '10.1093/pcp/pct029', '10.1371/journal.pone.0065426', '10.1371/journal.pone.0061820', '10.1007/s11010-013-1888-z', '10.1007/s00345-012-1008-9', '10.1101/gr.137091.111', '10.1121/1.4819248', '10.1371/journal.pone.0069952', '10.1371/journal.pone.0081638', '10.1007/978-3-319-02126-3_3', '10.1104/pp.113.221895', '10.1093/nar/gkt1249', '10.1186/1479-5876-11-239', '10.1016/j.trsl.2012.12.013', '10.1016/j.urology.2013.05.013', '10.1371/journal.pone.0076795', '10.1016/j.urolonc.2012.09.005', '10.1210/jc.2013-1583', '10.1007/s00204-013-1091-8', '10.5858/arpa.2011-0550-OA', '10.1016/j.jtcvs.2013.09.010', '10.1016/j.neuroimage.2013.06.036', '10.1037/a0035146', '10.1177/2211068213513453', '10.1371/journal.pone.0068385', '10.1016/j.pain.2013.08.023', '10.1016/j.cmpb.2013.03.005', '10.1016/j.ejso.2013.03.007', '10.1002/emmm.201302848', '10.1055/s-0033-1335728', '10.1016/j.actbio.2013.06.027', '10.1111/ppl.12088', '10.1007/s00213-013-3290-7', '10.1104/pp.113.222588', '10.1007/s00268-012-1881-9', '10.1016/j.nano.2012.10.011', '10.1038/gene.2013.20', '10.1007/s10637-013-9974-3', '10.1016/j.jtcvs.2013.09.035', '10.1007/s00425-013-1942-9', '10.1186/1476-4598-12-59', '10.1002/lary.22172', '10.1007/s10151-012-0913-7', '10.1002/hed.23258', '10.1007/978-3-642-40811-3_13', '10.1177/1087057113495296', '10.1016/j.anbehav.2013.06.015', '10.1016/j.biosystems.2013.07.001', '10.1016/j.neuroimage.2013.05.049', '10.1118/1.4771931', '10.1016/j.pbiomolbio.2013.03.017', '10.1186/1752-0509-7-43', '10.1016/j.ymeth.2013.06.002', '10.1093/molbev/mst099', '10.1001/jamadermatol.2013.3049', '10.1093/hmg/ddt298', '10.1530/ERC-13-0357', '10.1534/genetics.112.147330', '10.2196/jmir.2353', '10.1186/1471-2105-14-299', '10.1016/j.jecp.2013.03.009', '10.1155/2013/345968', '10.1007/s00464-012-2633-5', '10.1007/s11248-012-9667-2', '10.1111/j.1464-410X.2012.11122.x', '10.1016/j.eururo.2013.01.006', '10.1177/0218492312466861', '10.1016/j.cognition.2013.01.005', '10.3892/or.2013.2602', '10.1371/journal.pone.0070622', '10.1186/1471-2229-13-170', '10.1186/1471-2105-14-S8-S8', '10.1159/000354607', '10.1093/nar/gkt1203', '10.1016/j.jcrs.2013.04.038', '10.1016/j.artmed.2013.09.001', '10.1038/leu.2013.365', '10.1016/j.amjoto.2013.07.004', '10.1016/j.forsciint.2013.11.016', '10.1016/j.neuroimage.2013.12.021', '10.1016/j.artmed.2012.12.005', '10.1016/j.clinph.2012.12.003', '10.1016/j.midw.2013.07.001', 'PMID:24001466', '10.1016/j.neuroimage.2013.11.027', '10.1371/journal.pone.0053199', '\\n10.4037/ajcc2015740', '10.1016/j.neurobiolaging.2015.05.011', '10.1155/2015/865974', '10.1155/2015/374873', '10.1038/nn.4164', '10.3892/mmr.2015.3547', '10.1016/j.ajhg.2015.10.002', '10.1016/j.cell.2015.05.032', '10.1158/1078-0432.CCR-14-1561', '10.1002/acn3.201', '10.1080/15384101.2015.1080399', '10.1007/s12021-014-9254-1', '10.1111/bjh.13595', '10.1002/cbic.201500354', '10.1177/1078345815599763', '10.1161/CIRCULATIONAHA.114.008723', '10.3389/fnhum.2015.00021', '10.1182/blood-2014-12-614503', '10.1016/j.neuroimage.2015.01.048', '10.1016/S2213-2600(15)00335-5', '10.1073/pnas.1415603112', '10.1016/j.molcel.2015.01.011', '10.1021/acs.jproteome.5b00804', '10.1073/pnas.1516410112', '10.1016/j.neuroimage.2015.07.087', '10.1016/j.cell.2015.07.020', '10.1186/s13059-015-0628-y', '10.3347/kjp.2015.53.3.289', '10.1016/j.cell.2015.04.013', '10.1016/j.neuroimage.2015.01.029', '10.1182/blood-2014-08-596247', '10.1056/NEJMoa1502214', '10.1016/j.jaci.2014.12.1945', '10.3389/fnana.2015.00137', '10.1371/journal.pone.0142685', '10.1016/j.celrep.2015.07.053', '10.1186/1758-2946-7-S1-S2', '10.3390/v7092857', '10.1038/nature14248', '10.1016/j.forsciint.2015.05.030', '10.1016/j.jbi.2015.02.001', '10.1177/1078345815604752', '10.2196/rehab.4109', '10.1038/pr.2015.55', '10.1007/s00234-015-1556-y', '10.1053/j.sult.2015.06.003', '10.1039/c4an01806k', '10.1371/journal.pgen.1005550', '10.1186/s12864-015-1507-3', '10.1126/science.1259435', '10.1162/ARTL_a_00164', '10.1186/s12859-015-0666-1', '10.1371/journal.pone.0143204', '10.1093/jxb/erv167', '10.1016/j.jvs.2015.02.038', '10.1016/j.humimm.2015.09.033', '10.1038/ncomms8440', '10.1093/hmg/ddv345', '10.3892/mmr.2015.3538', '10.1111/jipb.12347', '10.1371/journal.pone.0120670', '10.1104/pp.15.00510', '10.1093/jb/mvv052', '10.1105/tpc.15.00471', '10.3233/JAD-141623', '10.1371/journal.pone.0130344', '10.1002/bdd.1987', '10.1242/dev.109454', '10.1016/j.neuroimage.2015.04.004', '10.3389/fmicb.2015.01200', '10.1104/pp.114.255547', '10.1016/j.visres.2015.04.007', '10.1098/rsif.2014.1271', '10.1186/s12976-015-0006-1', '10.1038/ng.3190', '10.1016/j.neuroimage.2015.07.066', '10.1177/2150135115606087', '10.1074/mcp.M115.050245', '10.18632/oncotarget.5701', '10.1142/S0219720015500201', '10.1519/JSC.0000000000000896', '10.1371/journal.pone.0144398', '10.1118/1.4915284', '10.1016/j.neuroimage.2015.01.032', '10.4238/2015.September.9.13', '10.7314/apjcp.2015.16.12.5095', '10.1371/journal.pone.0123236', '10.3390/ijms16059693', '10.1094/MPMI-02-15-0039-R', '10.1128/EC.00117-15', '10.1038/srep16597', '10.1097/MD.0000000000001228', '10.1007/s13304-015-0304-5', '10.1074/mcp.M115.052894', '10.1245/s10434-015-4799-2', '10.1016/j.neuron.2015.08.015', '10.1016/j.neuroimage.2015.04.026', '10.1111/1755-0998.12454', 'PMID:26862343', '10.1038/srep15022', '\\n 10.18632/oncotarget.5794', '10.3109/10409238.2015.1051505', '10.1016/j.neuroimage.2015.06.083', '10.2196/mhealth.4160', '10.1080/1062936X.2015.1095799', '10.1111/jipb.12328', '10.1007/s00425-015-2283-7', '10.1104/pp.114.253120', '10.1371/journal.pone.0145247', '10.1074/mcp.M114.047183', '10.1063/1.4913631', '10.1021/acs.jproteome.5b00140', '10.1371/journal.pone.0130891', '10.1021/acsnano.5b07121', '10.1155/2015/818570', '10.1016/j.legalmed.2015.02.001', '10.1155/2015/124537', '10.1155/2015/802754', '10.1118/1.4916088', '10.1186/s13054-015-0801-4', '\\n 10.1016/j.joca.2017.09.001', '10.1021/acsami.7b05515', '10.1099/jgv.0.000956', '10.3892/mmr.2017.7457', '10.1371/journal.pcbi.1005309', '10.1016/j.cortex.2017.12.010', '10.1021/acs.jproteome.7b00499', '10.1007/s10534-017-0072-4', '10.1007/s11695-017-2613-x', '10.1021/acs.jproteome.6b00824', '10.1016/j.bbrc.2017.03.125', '10.1038/s41598-017-15481-8', '10.1093/femspd/ftx037', '10.1111/febs.14179', '10.1104/pp.16.01494', '10.1038/nature22991', '10.1038/srep42060', '10.1016/j.jplph.2017.02.006', '10.1016/j.bbrc.2017.10.038', '\\n10.3390/s17040827', '10.1158/0008-5472.CAN-17-0122', '10.3233/JAD-161057', '10.1155/2017/5090454', '10.1016/j.neuroimage.2017.10.058', '10.1007/s10822-017-0057-y', '10.1002/prot.25432', '10.1371/journal.pcbi.1005694', '10.3390/s17071564', '10.1371/journal.pone.0188196', '10.1371/journal.pone.0187046', '10.1038/sdata.2017.35', '10.1111/papr.12581', 'PMID:31909397', '10.1016/j.saa.2016.07.016', '10.1007/s00401-016-1626-1', '10.1371/journal.pone.0170712', '10.1162/neco_a_01035', '10.1007/s11596-017-1734-8', '10.1002/jgm.2936', '10.1017/S2045796017000014', '10.3390/s17092109', '10.1038/s41598-017-13712-6', '10.1007/s00198-016-3825-y', '10.1021/acs.jproteome.6b00955', '10.1007/s13365-017-0586-0', '10.1111/bcpt.12914', '10.1038/s41598-017-05155-w', '10.1016/j.meegid.2017.01.029', '10.1016/j.compbiomed.2017.09.013', '10.3389/fnins.2017.00324', '10.1016/j.apradiso.2017.12.019', '10.2196/resprot.8085', '10.2196/jmir.6983', '10.1016/j.neuroimage.2017.07.019', '10.1371/journal.pone.0172290', '10.1016/j.ijmedinf.2017.12.016', '10.1016/j.neuroimage.2017.10.010', '10.3390/ijms19010086', '10.1007/s40708-017-0067-5', '10.1002/jmri.25585', '10.1109/LSP.2017.2754263', '10.1016/j.neuroimage.2017.04.028', '10.1186/s12984-016-0212-z', '10.1063/1.4981938', '10.1038/srep43446', '10.1016/j.bcp.2017.05.001', '10.1371/journal.pone.0180174', '10.1111/acel.12585', '10.1111/his.13333', '10.1016/j.jhin.2017.05.022', '10.1016/j.metabol.2017.01.011', '10.1016/j.gaitpost.2017.06.019', '10.4103/aca.ACA_243_16', '10.1016/j.canrad.2016.09.021', '10.1016/j.breast.2017.09.003', '10.1080/17453674.2017.1344459', '10.1161/STROKEAHA.116.016281', '10.1701/2829.28580', '10.1016/j.jacr.2017.07.007', '10.1002/cpt.650', '10.1007/s00508-017-1275-y', '10.1016/j.jacc.2017.03.571', '10.3390/ijerph14101165', '10.1093/jamia/ocw177', 'PMID:28423842', '10.1371/journal.pone.0182580', '10.1109/EMBC.2017.8037184', '10.1109/EMBC.2017.8036981', '10.1109/EMBC.2017.8037196', '10.1039/c7ob02193c', '10.1016/j.tics.2017.06.010', '10.1186/s12885-017-3806-3', '10.1155/2017/3781951', '10.3969/j.issn.1004-5619.2017.06.013', '-10.1097/MD.0000000000006612', '10.7554/eLife.22901', '10.2174/1389203718666170505121219', '10.1017/S0140525X17000152', '10.1177/0306312717704722', '10.1007/978-1-4939-3743-1_1', 'PMID:28479570', '10.1016/j.tics.2017.05.012', '10.1016/S0151-9638(17)31064-5', '10.1017/S0963180116001158', '10.1073/pnas.1619788114', '10.1089/end.2016.0791', '10.1093/bioinformatics/btx180', '10.1007/s10916-017-0760-1', '10.3390/s17081926', '10.1038/ncomms14579', '10.1016/j.taap.2017.03.011', '10.1021/acs.molpharmaceut.7b00346', '10.2147/DDDT.S119432', '10.1017/S0140525X17000255', '10.1007/s10278-017-9965-6', '10.1073/pnas.1611835114', '10.1016/j.conb.2017.07.010', '\\n10.1016/j.foodchem.2019.03.115', '10.1038/s41467-019-11030-1', '10.3390/s19214803', '10.1016/j.scitotenv.2019.03.087', '10.1186/s12920-019-0570-z', '10.1016/j.clinbiochem.2019.07.008', '10.1371/journal.pone.0220106', '10.3390/s19132848', '10.1016/j.isatra.2019.04.026', '10.1016/j.heliyon.2019.e02699', '10.3390/s19245499', '10.1007/978-981-13-8871-2_2', '10.1007/s11282-019-00396-z', '10.34133/2019/1608396', '10.1186/s12874-019-0708-x', '10.1016/j.heliyon.2019.e01884', '10.1161/STROKEAHA.118.024543', '10.1016/j.ebiom.2019.04.016', '10.1016/j.aquatox.2019.105286', '10.1002/art.41056', '10.1016/j.gene.2019.144232', '10.1016/j.ijfoodmicro.2018.11.016', '10.3390/ijms20215395', '10.2196/12996', '10.1371/journal.pone.0226039', '10.3892/mmr.2018.9677', '10.1242/jcs.221606', '10.1155/2019/9749751', '10.3390/ijms20030553', '10.1371/journal.pone.0211908', '10.1371/journal.pbio.3000136', '10.3892/ijmm.2019.4108', '10.1186/s12885-019-5433-7', '10.1016/j.bbrc.2018.11.102', '10.3390/genes10030200', '10.1093/nar/gkz594', '10.3892/mmr.2019.10213', '10.1097/MD.0000000000015642', '10.1093/eurheartj/ehz056', '10.1016/j.acra.2019.02.024', '10.1016/j.ijmedinf.2019.07.017', '10.1007/s00330-019-06447-7', '10.1016/j.celrep.2019.11.083', '10.1097/BRS.0000000000002974', '10.1007/s11548-019-01931-3', '10.1063/1.5120605', '10.1016/j.immuni.2019.03.001', '10.3390/s20010186', '10.1097/PRS.0000000000005865', '10.1136/gutjnl-2019-319292', '10.1016/j.diii.2019.02.010', '10.3390/cells8030235', '10.1371/journal.pone.0217593', '10.1097/JU.0000000000000416', '10.3802/jgo.2019.30.e65', '10.1016/j.biopha.2019.109535', '10.1007/s11010-019-03569-w', '10.3390/ijms20215392', '10.1186/s12864-019-6250-8', '10.3390/ijms20133334', '10.1186/s12967-019-1800-z', '10.1007/s00234-019-02154-8', '10.1155/2019/6480865', '10.1530/JOE-18-0493', '10.1038/s41467-019-09337-0', '10.3389/fonc.2019.00041', '10.1021/acs.jcim.9b00206', '10.3233/SHTI190245', '10.1111/risa.13313', '10.1108/IJHCQA-03-2018-0062', '10.1038/s41598-019-50137-9', '10.2174/1386207322666191129112433', '10.1021/acsomega.9b02439', '10.3390/s19224870', '10.1007/s11095-019-2671-y', '10.1007/s13258-019-00848-0', '10.3390/ijms20133321', '10.1186/s12870-019-1712-3', '10.1186/s13104-019-4559-7', '10.1159/000503776', '10.3233/SHTI190425', '10.1016/j.burns.2018.10.027', '10.1186/s13058-018-1090-z', '10.1111/jch.13700', '10.5213/inj.19381534.077', '10.1016/j.ygeno.2018.01.003', 'PMID:32002978', '10.1063/1.5120106', '10.1186/s12885-019-6101-7', '10.1016/j.ygeno.2018.05.016', '10.1016/j.jpedsurg.2018.10.071', '10.1371/journal.pone.0221460', '10.1093/bioinformatics/btz330', 'PMID:30919611', '10.1371/journal.pone.0207191', '10.1093/nar/gkz410', '10.3390/s19040833', '10.1021/acs.est.8b06586', '10.1103/PhysRevE.100.012201', '10.1097/MOG.0000000000000589', '\\n10.1186/s12911-019-0856-2', '10.3390/cancers11020212', '10.1186/s40708-019-0096-3', '10.1073/pnas.1900949116', '10.1038/s41586-019-0938-4', '10.1016/j.parkreldis.2019.02.003', '10.1016/j.humpath.2019.06.006', '10.1038/s41598-019-47565-y', '10.1177/1932296819839996', '10.3389/fpsyg.2019.02596', '10.1038/s41598-019-48016-4', '10.1186/s13244-019-0773-z', '10.12688/gatesopenres.12999.1', '10.1039/c9an00964g', '10.1007/s10071-019-01277-y', '10.1016/j.ultsonch.2019.104646', '10.1007/s00330-019-06558-1', '10.1016/j.apradiso.2019.108856', '10.1177/0142064X19858164', '\\n 10.3389/fgene.2019.01077', '10.3390/brainsci9080194', '10.3389/fcell.2019.00349', '10.1109/JBHI.2019.2919916', '10.1038/s41380-019-0365-9', '10.1021/acscombsci.8b00189', '10.3390/s19040753', '10.1007/s11948-019-00084-5', '10.1038/s41598-019-54961-x', '10.1103/PhysRevLett.123.213902', '10.1093/bioinformatics/bty511', '10.1177/0962280218805780', '10.1371/journal.pcbi.1007342', '10.1093/bioinformatics/bty1035', '10.1007/s10620-019-05791-4', '10.1111/den.13481', '10.1016/j.medengphy.2019.08.005', '10.1371/journal.pcbi.1006580', '10.3390/s19010125', '10.1021/acs.jpclett.9b02232', '10.1177/1559325819876218', '10.3390/jcm8101618', '10.12701/yujm.2019.00206', '10.1103/PhysRevLett.123.260501', '10.1186/s12911-019-0980-z', '10.1109/TNB.2019.2919188', '10.32687/0869-866X-2019-27-si1-630-636', '10.3389/fgene.2019.01182', '10.1098/rsos.190868', '10.1001/amajethics.2019.160', '10.26355/eurrev_201912_19686', '10.1093/nar/gkz328', '10.1109/JBHI.2019.2923773', '10.3389/fnhum.2019.00170', '10.1259/bjr.20190610', '10.3390/s19112525', '10.1007/s00221-018-5441-x', '10.1016/j.neuroimage.2019.116333', '10.2196/13111', '10.1371/journal.pone.0208308', '10.1002/wcs.1488', 'PMID:30778510', '10.1038/s41598-019-41663-7', '10.1016/j.biopha.2019.109274', '10.3390/ijms20184462', '10.1371/journal.pone.0218946', '10.1007/s00018-018-2970-1', '10.1016/j.gene.2019.144150', '10.1007/s11033-018-4533-9', '10.1162/artl_a_00288', '10.3390/ijms20246108', '10.3390/ijms20020296', '10.1371/journal.pone.0215901', '10.1055/s-0038-1668122', '10.1016/j.ijrobp.2019.07.011', '10.1186/s12864-018-5400-8', '10.1007/s10142-018-0629-5', '10.1007/s10142-018-0635-7', '10.3892/mmr.2018.9641', '10.1016/j.ymeth.2018.11.015', '10.3892/mmr.2019.10308', '10.1016/j.jcmgh.2018.09.008', '10.1038/s41440-018-0177-3', '10.1055/a-0740-8631', '10.1007/s00259-019-04437-x', '10.1016/j.micpath.2019.04.033', '10.1016/j.scitotenv.2019.134230', '10.12659/MSM.917399', '10.1016/j.radonc.2019.11.023', '10.3390/s19214788', '10.1016/j.ophtha.2019.12.004', '10.3390/s19030613', '10.1016/j.ijmedinf.2019.104068', '10.1007/s00330-019-06371-w', '10.1016/j.jbi.2019.103364', '10.1080/09513590.2019.1650345', '10.1016/j.media.2019.101625', '10.1038/s41598-019-44852-6', '10.1037/xge0000630', '10.1097/CCO.0000000000000563', '10.1007/978-3-030-16391-4_8', '10.3389/fbioe.2019.00330', '10.3390/ma12182864', '10.1016/j.neuroimage.2019.06.053', '10.12659/MSM.917299', '10.1007/s11255-018-2044-1', '10.2214/AJR.18.20443', '10.1111/nph.15692', '10.1371/journal.pone.0214857', '10.3390/ijms20061309', '10.12659/MSM.917375', '10.1186/s12967-018-1761-7', '10.1371/journal.pone.0223173', '10.3390/ijms20174231', '10.1038/s41467-019-09278-8', '10.3390/s19071740', '10.1186/s40644-019-0203-y', '\\n 10.3390/s19030542', '10.1073/pnas.1820458116', '10.3389/fnbot.2019.00018', '10.1016/j.ijlp.2019.101479', '10.1016/j.dental.2019.10.001', '10.1007/s11684-019-0726-4', '10.1109/TBCAS.2019.2955641', '10.1007/s10916-019-1469-0', '10.1109/EMBC.2019.8857448', '10.1007/s00122-019-03493-z', '10.15252/embr.201949177', '10.1063/1.5090319', '10.1089/omi.2019.0020', '10.3389/fnbot.2019.00078', '10.5946/ce.2019.012', '10.1109/JBHI.2019.2914690', '10.1097/PRS.0000000000005673', '10.1093/jbcr/irz103', '10.1103/PhysRevE.99.043306', '10.1038/s41598-019-46074-2', '\\n10.1093/jnen/nlz122', '10.1148/radiol.2020200905', '10.1016/j.mri.2019.09.006', '10.1007/s12149-020-01460-z', '10.1007/s12350-018-1317-5', '10.3322/caac.21608', '10.1192/bjp.2019.127', '10.1002/humu.23948', '10.1002/adma.201906493', '10.3390/ijerph17031093', '10.2196/15510', '10.1038/s41598-020-62676-7', '10.1098/rsta.2019.0163', '10.1002/hbm.24968', '10.1136/gutjnl-2019-318860', '10.1007/s11571-019-09560-x', '10.1016/j.ijporl.2019.109833', '10.1016/j.msard.2020.102034', '10.1001/jamanetworkopen.2020.0255', '10.1212/WNL.0000000000009068', '10.3390/v12030268', '10.1089/omi.2019.0220', '10.1016/j.annonc.2020.04.003', '10.1038/s41598-019-56881-2', '10.1371/journal.pone.0229819', '10.1007/s00330-020-06699-8', '10.3390/s20082376', '10.1007/s11571-019-09541-0', '10.1038/s41467-020-14695-1', '10.3390/cancers12020379', '10.1002/jcla.23054', '10.3390/nano10040708', '\\n10.3390/s20030885', '10.1016/bs.apcsb.2019.11.013', '10.1111/ejn.14724', '10.1007/s11548-019-02057-2', '10.1126/science.aaz4439', '10.1111/aas.13527', '10.1177/1073110520916994', '10.1001/jamanetworkopen.2020.2142', '10.1007/s00415-019-09613-5', '10.1186/s12872-020-01455-8', '10.1039/d0cs00098a', '10.7554/eLife.52951', '10.1038/s41587-019-0364-z', '10.1016/j.media.2019.101561', '10.1148/radiol.2020201491', '10.2196/15022', '10.1038/s10038-020-0733-y', '10.1002/hbm.25023', '10.1038/s41598-020-59661-5', '10.1056/NEJMoa1917130', '10.1038/s41746-020-0266-y', '10.1016/j.cmpb.2019.105153', '10.1002/advs.201902699', '10.1002/cti2.1105', '10.3988/jcn.2020.16.2.202', '10.1210/clinem/dgz141', '10.1016/j.media.2020.101652', '10.1016/j.jcmg.2019.06.027', '10.1186/s13041-020-00587-4', 'PMID:32060190', '10.1155/2020/3658795', '10.1007/s10439-019-02332-y', '10.1021/acs.jcim.9b01030', '10.1038/s41467-020-14649-7', '10.15252/emmm.201911622', '10.1055/a-1111-2431', '10.1053/j.gastro.2020.02.036', '10.1016/j.ajo.2020.04.003', '10.1016/j.cmpb.2019.105059', '10.1002/hbm.24856', '10.1016/j.scitotenv.2020.137320', '10.1002/adma.202000497', '10.1038/s41598-020-59541-y', '10.2174/0929867327666200408115817', '10.1002/mp.13986', '10.1186/s41199-020-0047-y', '10.3171/2020.1.FOCUS19914', '10.1007/s00330-019-06652-4', '10.1158/1078-0432.CCR-19-1376', '10.1186/s12859-020-3430-0', '10.1016/j.healthplace.2019.102243', '10.1038/s41746-019-0205-y', '10.1002/jmri.27104', '10.2196/17125', '10.1002/mp.14129', '10.20900/jpbs.20200001', '10.2196/15963', '10.1055/a-1035-9088', '10.3389/fonc.2020.00093', '10.1001/jamanetworkopen.2020.0265', '10.1007/s00330-020-06856-z', '10.3389/fonc.2020.00235', '10.1007/s11682-019-00252-y', '10.1038/s41586-020-2284-y', '10.1016/j.brainres.2020.146693', '10.1186/s12864-020-6542-z', '10.1089/ast.2019.2129', '10.2196/15411', '10.1016/j.drugalcdep.2019.107716', '10.3390/s20092489', '10.1002/ece3.6147', '10.1016/j.cmpb.2019.105162', '10.1111/den.13688', '10.3390/s20010293', '10.1097/MLR.0000000000001221', '10.1111/nyas.14320', 'PMID:32355515', '10.1002/jum.15071', '10.1158/2326-6066.CIR-19-0521', '10.4070/kcj.2019.0105', '10.1186/s12916-020-01563-4', '10.1016/j.cmpb.2020.105475', '10.2196/17279', '10.1002/1878-0261.12635', '10.3390/s20092460', '10.1016/j.canrad.2020.01.011', '10.1016/j.actbio.2020.02.007', '10.1016/j.brainres.2020.146700', '\\n 10.1021/acsami.9b22369', '10.1186/s12969-020-0404-8', '10.1002/jemt.23429', '10.1016/j.cyto.2020.155051', '10.1016/j.artmed.2019.101782', '10.1016/j.enfcli.2019.09.024', '10.21037/atm.2019.12.150', '10.1089/brain.2019.0722', '10.1177/0886260520913648', '10.1093/jamia/ocz166', '10.1007/s00345-020-03214-y', '10.3390/s20092467', '10.1111/febs.15314', '10.3390/diagnostics10040196', '10.1002/mp.13978', '10.3390/bs10020055', '10.3389/fpsyt.2020.00026', '10.1007/s11548-019-02114-w', '10.3390/s20041068', '10.3389/fnhum.2019.00457', '']\n"
     ]
    }
   ],
   "source": [
    "data = open(\"/Users/maida/Desktop/GitHub/AI-Team-Project/labeled_set_new(2).txt\", \"r+\")\n",
    "dois = []\n",
    "data = data.read()\n",
    "#print (data)\n",
    "data = data.split(\"-------------------------------------------\")\n",
    "for d in data:\n",
    "    d = d.split(\"  |  \")\n",
    "    dois.append(d[0])\n",
    "dois_new = []\n",
    "for doi in dois:\n",
    "    doi = doi.replace(\" \\n\", \"\")\n",
    "    \n",
    "    dois_new.append(doi)\n",
    "print(dois_new)"
   ]
  },
  {
   "cell_type": "code",
   "execution_count": 25,
   "metadata": {},
   "outputs": [
    {
     "ename": "NameError",
     "evalue": "name 'FullDoc' is not defined",
     "output_type": "error",
     "traceback": [
      "\u001b[0;31m---------------------------------------------------------------------------\u001b[0m",
      "\u001b[0;31mNameError\u001b[0m                                 Traceback (most recent call last)",
      "\u001b[0;32m<ipython-input-25-4b21e5cb515f>\u001b[0m in \u001b[0;36m<module>\u001b[0;34m\u001b[0m\n\u001b[1;32m      3\u001b[0m \u001b[0;32mfor\u001b[0m \u001b[0md\u001b[0m \u001b[0;32min\u001b[0m \u001b[0mdois_new\u001b[0m\u001b[0;34m:\u001b[0m\u001b[0;34m\u001b[0m\u001b[0;34m\u001b[0m\u001b[0m\n\u001b[1;32m      4\u001b[0m \u001b[0;34m\u001b[0m\u001b[0m\n\u001b[0;32m----> 5\u001b[0;31m     \u001b[0mdoi_doc\u001b[0m \u001b[0;34m=\u001b[0m \u001b[0mFullDoc\u001b[0m\u001b[0;34m(\u001b[0m\u001b[0mdoi\u001b[0m \u001b[0;34m=\u001b[0m \u001b[0md\u001b[0m\u001b[0;34m)\u001b[0m\u001b[0;34m\u001b[0m\u001b[0;34m\u001b[0m\u001b[0m\n\u001b[0m\u001b[1;32m      6\u001b[0m     \u001b[0;32mif\u001b[0m \u001b[0mdoi_doc\u001b[0m\u001b[0;34m.\u001b[0m\u001b[0mread\u001b[0m\u001b[0;34m(\u001b[0m\u001b[0mclient\u001b[0m\u001b[0;34m)\u001b[0m\u001b[0;34m:\u001b[0m\u001b[0;34m\u001b[0m\u001b[0;34m\u001b[0m\u001b[0m\n\u001b[1;32m      7\u001b[0m         \u001b[0mprint\u001b[0m \u001b[0;34m(\u001b[0m\u001b[0;34m\"doi_doc.title: \"\u001b[0m\u001b[0;34m,\u001b[0m \u001b[0mdoi_doc\u001b[0m\u001b[0;34m.\u001b[0m\u001b[0mtitle\u001b[0m\u001b[0;34m)\u001b[0m\u001b[0;34m\u001b[0m\u001b[0;34m\u001b[0m\u001b[0m\n",
      "\u001b[0;31mNameError\u001b[0m: name 'FullDoc' is not defined"
     ]
    }
   ],
   "source": [
    "## ScienceDirect (full-text) document example using DOI\n",
    "\n",
    "for d in dois_new:\n",
    "    \n",
    "    doi_doc = FullDoc(doi = d)\n",
    "    if doi_doc.read(client):\n",
    "        print (\"doi_doc.title: \", doi_doc.title)\n",
    "        doi_doc.write()   \n",
    "    else:\n",
    "        print (\"Read document failed.\")"
   ]
  },
  {
   "cell_type": "code",
   "execution_count": 6,
   "metadata": {},
   "outputs": [
    {
     "name": "stdout",
     "output_type": "stream",
     "text": [
      "doc_srch has 25 results.\n"
     ]
    }
   ],
   "source": [
    "## Initialize doc search object using ScienceDirect and execute search, \n",
    "#   retrieving all results\n",
    "doc_srch = ElsSearch(\"artificial intelligence in medicine\",'sciencedirect')\n",
    "doc_srch.execute(client, get_all = False)\n",
    "print (\"doc_srch has\", len(doc_srch.results), \"results.\")"
   ]
  },
  {
   "cell_type": "code",
   "execution_count": 18,
   "metadata": {},
   "outputs": [
    {
     "data": {
      "text/plain": [
       "0     S1076633219304581\n",
       "1     S1052515720300118\n",
       "2     S027263861930842X\n",
       "3     S2452318620300192\n",
       "4     S2352340919312491\n",
       "5     S0737080620300642\n",
       "6     S0889858819300966\n",
       "7     S0846537119300063\n",
       "8     S0303846720300615\n",
       "9     S0009912018311974\n",
       "10    S0960977620300096\n",
       "11    S2211883718301758\n",
       "12    S074906902030029X\n",
       "13    S2095809920300035\n",
       "14    S2589238X20300127\n",
       "15    S1001929419300288\n",
       "16    S0720048X19304243\n",
       "17    S2001037020300325\n",
       "18    S1473050218301721\n",
       "19    S0022073619307046\n",
       "20    S1076633219304428\n",
       "21    S235208171930193X\n",
       "22    S1532046419302308\n",
       "23    S0378378220301481\n",
       "24    S0303846720300755\n",
       "Name: pii, dtype: object"
      ]
     },
     "execution_count": 18,
     "metadata": {},
     "output_type": "execute_result"
    }
   ],
   "source": [
    "import pandas as pd\n",
    "results = pd.DataFrame(doc_srch.results)\n",
    "results['pii']"
   ]
  },
  {
   "cell_type": "code",
   "execution_count": 22,
   "metadata": {},
   "outputs": [
    {
     "name": "stdout",
     "output_type": "stream",
     "text": [
      "pii_doc.title:  Artificial Intelligence in Medicine: Where Are We Now? \n",
      "pii_doc.title:  How Artificial Intelligence Will Impact Colonoscopy and Colorectal Screening \n",
      "pii_doc.title:  Artificial Intelligence in Nephrology: Core Concepts, Clinical Applications, and Perspectives \n",
      "pii_doc.title:  Machine learning and artificial intelligence in the service of medicine: Necessity or potentiality? \n",
      "pii_doc.title:  Clinical trial design data for electrocardiogram artificial intelligence-guided screening for low ejection fraction (EAGLE)\n",
      "pii_doc.title:  Using Artificial Intelligence to Predict Survivability Likelihood and Need for Surgery in Horses Presented With Acute Abdomen (Colic) \n",
      "pii_doc.title:  Artificial Intelligence in Radiation Oncology \n",
      "pii_doc.title:  Canadian Association of Radiologists White Paper on Ethical and Legal Issues Related to Artificial Intelligence in Radiology\n",
      "pii_doc.title:  Using artificial intelligence (AI) to predict postoperative surgical site infection: A retrospective cohort of 4046 posterior spinal fusions \n",
      "pii_doc.title:  Data science, artificial intelligence, and machine learning: Opportunities for laboratory medicine and the value of positive regulation \n",
      "pii_doc.title:  Using artificial intelligence to analyse and teach communication in healthcare\n",
      "pii_doc.title:  Artificial intelligence in medicine: What is it doing for us today? \n",
      "pii_doc.title:  Artificial Intelligence and Digital Tools: Future of Diabetes Care \n",
      "pii_doc.title:  From Brain Science to Artificial Intelligence\n",
      "pii_doc.title:  Artificial intelligence: The dawn of a new era for cutting-edge technology based diagnosis and treatment for stroke\n",
      "pii_doc.title:  Artificial Intelligence in Healthcare and Medicine: Promises, Ethical Challenges and Governance \n",
      "pii_doc.title:  Artificial intelligence applications for thoracic imaging \n",
      "pii_doc.title:  Artificial intelligence in tongue diagnosis: Using deep convolutional neural network for recognizing unhealthy tongue with tooth-mark\n",
      "pii_doc.title:  Artificial intelligence: A joint narrative on potential use in pediatric stem and immune cell therapies and regenerative medicine \n",
      "pii_doc.title:  Artificial intelligence for detecting mitral regurgitation using electrocardiography \n",
      "pii_doc.title:  Artificial Intelligence in Radiology: Summary of the AUR Academic Radiology and Industry Leaders Roundtable \n",
      "pii_doc.title:  Current status and applications of Artificial Intelligence (AI) in medical field: An overview \n",
      "pii_doc.title:  Transforming healthcare with big data analytics and artificial intelligence: A systematic mapping study \n",
      "pii_doc.title:  Artificial intelligence in medicine \n",
      "pii_doc.title:  Artificial intelligence outperforms human students in conducting neurosurgical audits \n"
     ]
    }
   ],
   "source": [
    "for pii in list(results['pii']):\n",
    "    pii_doc = FullDoc(sd_pii = pii)\n",
    "    if pii_doc.read(client):\n",
    "        print (\"pii_doc.title: \", pii_doc.title)\n",
    "        pii_doc.write()   \n",
    "    else:\n",
    "        print (\"Read document failed.\")"
   ]
  },
  {
   "cell_type": "code",
   "execution_count": 12,
   "metadata": {
    "scrolled": true
   },
   "outputs": [
    {
     "name": "stdout",
     "output_type": "stream",
     "text": [
      "doc_srch has 25 results.\n",
      "pii_doc.title:  A multi-context CNN ensemble for small lesion detection \n",
      "pii_doc.title:  The impact of machine learning on patient care: A systematic review \n",
      "pii_doc.title:  A novel method of motor imagery classification using eeg signal \n",
      "pii_doc.title:  The role of medical smartphone apps in clinical decision-support: A literature review \n",
      "pii_doc.title:  Combining clustering and classification ensembles: A novel pipeline to identify breast cancer profiles \n",
      "pii_doc.title:  Ophthalmic diagnosis using deep learning with fundus images – A critical review \n",
      "pii_doc.title:  A survey on computer-assisted Parkinson's Disease diagnosis \n",
      "pii_doc.title:  Pharmacological therapy selection of type 2 diabetes based on the SWARA and modified MULTIMOORA methods under a fuzzy environment \n",
      "pii_doc.title:  Using echo state networks for classification: A case study in Parkinson's disease diagnosis \n",
      "pii_doc.title:  Prediction of lung cancer incidence on the low-dose computed tomography arm of the National Lung Screening Trial: A dynamic Bayesian network \n",
      "pii_doc.title:  Modeling and processing up-to-dateness of patient information in probabilistic therapy decision support \n",
      "pii_doc.title:  Handling limited datasets with neural networks in medical applications: A small-data approach\n",
      "pii_doc.title:  An effective approach for CT lung segmentation using mask region-based convolutional neural networks \n",
      "pii_doc.title:  Multi-objective evolutionary design of antibiotic treatments \n",
      "pii_doc.title:  Toward Development of PreVoid Alerting System for Nocturnal Enuresis Patients: A Fuzzy-Based Approach for Determining the Level of Liquid Encased in Urinary Bladder \n",
      "pii_doc.title:  A multicenter random forest model for effective prognosis prediction in collaborative clinical research network \n",
      "pii_doc.title:  Predicting dementia with routine care EMR data \n",
      "pii_doc.title:  Fuzzy support vector machine-based personalizing method to address the inter-subject variance problem of physiological signals in a driver monitoring system \n",
      "pii_doc.title:  A recurrent neural network approach to predicting hemoglobin trajectories in patients with End-Stage Renal Disease \n",
      "pii_doc.title:  Learning from healthy and stable eyes: A new approach for detection of glaucomatous progression \n",
      "pii_doc.title:  A methodology based on multiple criteria decision analysis for combining antibiotics in empirical therapy \n",
      "pii_doc.title:  Classifying cancer pathology reports with hierarchical self-attention networks\n",
      "pii_doc.title:  Reinforcement learning application in diabetes blood glucose control: A systematic review \n",
      "pii_doc.title:  A fuzzy-ontology-oriented case-based reasoning framework for semantic diabetes diagnosis \n",
      "pii_doc.title:  Artificial intelligence and the future of psychiatry: Insights from a global physician survey \n",
      "doc_srch has 25 results.\n",
      "pii_doc.title:  A multi-context CNN ensemble for small lesion detection \n",
      "pii_doc.title:  The impact of machine learning on patient care: A systematic review \n",
      "pii_doc.title:  A novel method of motor imagery classification using eeg signal \n",
      "pii_doc.title:  The role of medical smartphone apps in clinical decision-support: A literature review \n",
      "pii_doc.title:  Combining clustering and classification ensembles: A novel pipeline to identify breast cancer profiles \n",
      "pii_doc.title:  Ophthalmic diagnosis using deep learning with fundus images – A critical review \n",
      "pii_doc.title:  A survey on computer-assisted Parkinson's Disease diagnosis \n",
      "pii_doc.title:  Pharmacological therapy selection of type 2 diabetes based on the SWARA and modified MULTIMOORA methods under a fuzzy environment \n",
      "pii_doc.title:  Using echo state networks for classification: A case study in Parkinson's disease diagnosis \n",
      "pii_doc.title:  Prediction of lung cancer incidence on the low-dose computed tomography arm of the National Lung Screening Trial: A dynamic Bayesian network \n",
      "pii_doc.title:  Modeling and processing up-to-dateness of patient information in probabilistic therapy decision support \n",
      "pii_doc.title:  Handling limited datasets with neural networks in medical applications: A small-data approach\n",
      "pii_doc.title:  An effective approach for CT lung segmentation using mask region-based convolutional neural networks \n",
      "pii_doc.title:  Multi-objective evolutionary design of antibiotic treatments \n",
      "pii_doc.title:  Toward Development of PreVoid Alerting System for Nocturnal Enuresis Patients: A Fuzzy-Based Approach for Determining the Level of Liquid Encased in Urinary Bladder \n",
      "pii_doc.title:  A multicenter random forest model for effective prognosis prediction in collaborative clinical research network \n",
      "pii_doc.title:  Predicting dementia with routine care EMR data \n",
      "pii_doc.title:  Fuzzy support vector machine-based personalizing method to address the inter-subject variance problem of physiological signals in a driver monitoring system \n",
      "pii_doc.title:  A recurrent neural network approach to predicting hemoglobin trajectories in patients with End-Stage Renal Disease \n",
      "pii_doc.title:  Learning from healthy and stable eyes: A new approach for detection of glaucomatous progression \n",
      "pii_doc.title:  A methodology based on multiple criteria decision analysis for combining antibiotics in empirical therapy \n",
      "pii_doc.title:  Classifying cancer pathology reports with hierarchical self-attention networks\n",
      "pii_doc.title:  Reinforcement learning application in diabetes blood glucose control: A systematic review \n",
      "pii_doc.title:  A fuzzy-ontology-oriented case-based reasoning framework for semantic diabetes diagnosis \n",
      "pii_doc.title:  Artificial intelligence and the future of psychiatry: Insights from a global physician survey \n",
      "doc_srch has 25 results.\n",
      "pii_doc.title:  A multi-context CNN ensemble for small lesion detection \n",
      "pii_doc.title:  The impact of machine learning on patient care: A systematic review \n",
      "pii_doc.title:  A novel method of motor imagery classification using eeg signal \n",
      "pii_doc.title:  The role of medical smartphone apps in clinical decision-support: A literature review \n",
      "pii_doc.title:  Combining clustering and classification ensembles: A novel pipeline to identify breast cancer profiles \n",
      "pii_doc.title:  Ophthalmic diagnosis using deep learning with fundus images – A critical review \n",
      "pii_doc.title:  A survey on computer-assisted Parkinson's Disease diagnosis \n",
      "pii_doc.title:  Pharmacological therapy selection of type 2 diabetes based on the SWARA and modified MULTIMOORA methods under a fuzzy environment \n",
      "pii_doc.title:  Using echo state networks for classification: A case study in Parkinson's disease diagnosis \n",
      "pii_doc.title:  Prediction of lung cancer incidence on the low-dose computed tomography arm of the National Lung Screening Trial: A dynamic Bayesian network \n",
      "pii_doc.title:  Modeling and processing up-to-dateness of patient information in probabilistic therapy decision support \n",
      "pii_doc.title:  Handling limited datasets with neural networks in medical applications: A small-data approach\n",
      "pii_doc.title:  An effective approach for CT lung segmentation using mask region-based convolutional neural networks \n",
      "pii_doc.title:  Multi-objective evolutionary design of antibiotic treatments \n",
      "pii_doc.title:  Toward Development of PreVoid Alerting System for Nocturnal Enuresis Patients: A Fuzzy-Based Approach for Determining the Level of Liquid Encased in Urinary Bladder \n",
      "pii_doc.title:  A multicenter random forest model for effective prognosis prediction in collaborative clinical research network \n",
      "pii_doc.title:  Predicting dementia with routine care EMR data \n",
      "pii_doc.title:  Fuzzy support vector machine-based personalizing method to address the inter-subject variance problem of physiological signals in a driver monitoring system \n",
      "pii_doc.title:  A recurrent neural network approach to predicting hemoglobin trajectories in patients with End-Stage Renal Disease \n",
      "pii_doc.title:  Learning from healthy and stable eyes: A new approach for detection of glaucomatous progression \n",
      "pii_doc.title:  A methodology based on multiple criteria decision analysis for combining antibiotics in empirical therapy \n",
      "pii_doc.title:  Classifying cancer pathology reports with hierarchical self-attention networks\n",
      "pii_doc.title:  Reinforcement learning application in diabetes blood glucose control: A systematic review \n"
     ]
    },
    {
     "name": "stdout",
     "output_type": "stream",
     "text": [
      "pii_doc.title:  A fuzzy-ontology-oriented case-based reasoning framework for semantic diabetes diagnosis \n",
      "pii_doc.title:  Artificial intelligence and the future of psychiatry: Insights from a global physician survey \n",
      "doc_srch has 25 results.\n",
      "pii_doc.title:  A multi-context CNN ensemble for small lesion detection \n",
      "pii_doc.title:  The impact of machine learning on patient care: A systematic review \n",
      "pii_doc.title:  A novel method of motor imagery classification using eeg signal \n",
      "pii_doc.title:  The role of medical smartphone apps in clinical decision-support: A literature review \n",
      "pii_doc.title:  Combining clustering and classification ensembles: A novel pipeline to identify breast cancer profiles \n",
      "pii_doc.title:  Ophthalmic diagnosis using deep learning with fundus images – A critical review \n",
      "pii_doc.title:  A survey on computer-assisted Parkinson's Disease diagnosis \n",
      "pii_doc.title:  Pharmacological therapy selection of type 2 diabetes based on the SWARA and modified MULTIMOORA methods under a fuzzy environment \n",
      "pii_doc.title:  Using echo state networks for classification: A case study in Parkinson's disease diagnosis \n",
      "pii_doc.title:  Prediction of lung cancer incidence on the low-dose computed tomography arm of the National Lung Screening Trial: A dynamic Bayesian network \n",
      "pii_doc.title:  Modeling and processing up-to-dateness of patient information in probabilistic therapy decision support \n",
      "pii_doc.title:  Handling limited datasets with neural networks in medical applications: A small-data approach\n",
      "pii_doc.title:  An effective approach for CT lung segmentation using mask region-based convolutional neural networks \n",
      "pii_doc.title:  Multi-objective evolutionary design of antibiotic treatments \n",
      "pii_doc.title:  Toward Development of PreVoid Alerting System for Nocturnal Enuresis Patients: A Fuzzy-Based Approach for Determining the Level of Liquid Encased in Urinary Bladder \n",
      "pii_doc.title:  A multicenter random forest model for effective prognosis prediction in collaborative clinical research network \n",
      "pii_doc.title:  Predicting dementia with routine care EMR data \n",
      "pii_doc.title:  Fuzzy support vector machine-based personalizing method to address the inter-subject variance problem of physiological signals in a driver monitoring system \n",
      "pii_doc.title:  A recurrent neural network approach to predicting hemoglobin trajectories in patients with End-Stage Renal Disease \n",
      "pii_doc.title:  Learning from healthy and stable eyes: A new approach for detection of glaucomatous progression \n",
      "pii_doc.title:  A methodology based on multiple criteria decision analysis for combining antibiotics in empirical therapy \n",
      "pii_doc.title:  Classifying cancer pathology reports with hierarchical self-attention networks\n",
      "pii_doc.title:  Reinforcement learning application in diabetes blood glucose control: A systematic review \n",
      "pii_doc.title:  A fuzzy-ontology-oriented case-based reasoning framework for semantic diabetes diagnosis \n",
      "pii_doc.title:  Artificial intelligence and the future of psychiatry: Insights from a global physician survey \n",
      "doc_srch has 25 results.\n",
      "pii_doc.title:  A multi-context CNN ensemble for small lesion detection \n",
      "pii_doc.title:  The impact of machine learning on patient care: A systematic review \n",
      "pii_doc.title:  A novel method of motor imagery classification using eeg signal \n",
      "pii_doc.title:  The role of medical smartphone apps in clinical decision-support: A literature review \n",
      "pii_doc.title:  Combining clustering and classification ensembles: A novel pipeline to identify breast cancer profiles \n",
      "pii_doc.title:  Ophthalmic diagnosis using deep learning with fundus images – A critical review \n",
      "pii_doc.title:  A survey on computer-assisted Parkinson's Disease diagnosis \n",
      "pii_doc.title:  Pharmacological therapy selection of type 2 diabetes based on the SWARA and modified MULTIMOORA methods under a fuzzy environment \n",
      "pii_doc.title:  Using echo state networks for classification: A case study in Parkinson's disease diagnosis \n",
      "pii_doc.title:  Prediction of lung cancer incidence on the low-dose computed tomography arm of the National Lung Screening Trial: A dynamic Bayesian network \n",
      "pii_doc.title:  Modeling and processing up-to-dateness of patient information in probabilistic therapy decision support \n",
      "pii_doc.title:  Handling limited datasets with neural networks in medical applications: A small-data approach\n",
      "pii_doc.title:  An effective approach for CT lung segmentation using mask region-based convolutional neural networks \n",
      "pii_doc.title:  Multi-objective evolutionary design of antibiotic treatments \n",
      "pii_doc.title:  Toward Development of PreVoid Alerting System for Nocturnal Enuresis Patients: A Fuzzy-Based Approach for Determining the Level of Liquid Encased in Urinary Bladder \n",
      "pii_doc.title:  A multicenter random forest model for effective prognosis prediction in collaborative clinical research network \n",
      "pii_doc.title:  Predicting dementia with routine care EMR data \n",
      "pii_doc.title:  Fuzzy support vector machine-based personalizing method to address the inter-subject variance problem of physiological signals in a driver monitoring system \n",
      "pii_doc.title:  A recurrent neural network approach to predicting hemoglobin trajectories in patients with End-Stage Renal Disease \n",
      "pii_doc.title:  Learning from healthy and stable eyes: A new approach for detection of glaucomatous progression \n",
      "pii_doc.title:  A methodology based on multiple criteria decision analysis for combining antibiotics in empirical therapy \n",
      "pii_doc.title:  Classifying cancer pathology reports with hierarchical self-attention networks\n",
      "pii_doc.title:  Reinforcement learning application in diabetes blood glucose control: A systematic review \n",
      "pii_doc.title:  A fuzzy-ontology-oriented case-based reasoning framework for semantic diabetes diagnosis \n",
      "pii_doc.title:  Artificial intelligence and the future of psychiatry: Insights from a global physician survey \n",
      "doc_srch has 25 results.\n",
      "pii_doc.title:  A multi-context CNN ensemble for small lesion detection \n",
      "pii_doc.title:  The impact of machine learning on patient care: A systematic review \n",
      "pii_doc.title:  A novel method of motor imagery classification using eeg signal \n",
      "pii_doc.title:  The role of medical smartphone apps in clinical decision-support: A literature review \n",
      "pii_doc.title:  Combining clustering and classification ensembles: A novel pipeline to identify breast cancer profiles \n",
      "pii_doc.title:  Ophthalmic diagnosis using deep learning with fundus images – A critical review \n",
      "pii_doc.title:  A survey on computer-assisted Parkinson's Disease diagnosis \n",
      "pii_doc.title:  Pharmacological therapy selection of type 2 diabetes based on the SWARA and modified MULTIMOORA methods under a fuzzy environment \n",
      "pii_doc.title:  Using echo state networks for classification: A case study in Parkinson's disease diagnosis \n",
      "pii_doc.title:  Prediction of lung cancer incidence on the low-dose computed tomography arm of the National Lung Screening Trial: A dynamic Bayesian network \n",
      "pii_doc.title:  Modeling and processing up-to-dateness of patient information in probabilistic therapy decision support \n",
      "pii_doc.title:  Handling limited datasets with neural networks in medical applications: A small-data approach\n",
      "pii_doc.title:  An effective approach for CT lung segmentation using mask region-based convolutional neural networks \n",
      "pii_doc.title:  Multi-objective evolutionary design of antibiotic treatments \n",
      "pii_doc.title:  Toward Development of PreVoid Alerting System for Nocturnal Enuresis Patients: A Fuzzy-Based Approach for Determining the Level of Liquid Encased in Urinary Bladder \n",
      "pii_doc.title:  A multicenter random forest model for effective prognosis prediction in collaborative clinical research network \n",
      "pii_doc.title:  Predicting dementia with routine care EMR data \n",
      "pii_doc.title:  A recurrent neural network approach to predicting hemoglobin trajectories in patients with End-Stage Renal Disease \n",
      "pii_doc.title:  Fuzzy support vector machine-based personalizing method to address the inter-subject variance problem of physiological signals in a driver monitoring system \n",
      "pii_doc.title:  Learning from healthy and stable eyes: A new approach for detection of glaucomatous progression \n",
      "pii_doc.title:  A methodology based on multiple criteria decision analysis for combining antibiotics in empirical therapy \n"
     ]
    },
    {
     "name": "stdout",
     "output_type": "stream",
     "text": [
      "pii_doc.title:  Classifying cancer pathology reports with hierarchical self-attention networks\n",
      "pii_doc.title:  Reinforcement learning application in diabetes blood glucose control: A systematic review \n",
      "pii_doc.title:  A fuzzy-ontology-oriented case-based reasoning framework for semantic diabetes diagnosis \n",
      "pii_doc.title:  Artificial intelligence and the future of psychiatry: Insights from a global physician survey \n"
     ]
    }
   ],
   "source": [
    "## Initialize doc search object using ScienceDirect and execute search, \n",
    "#   retrieving all results\n",
    "import pandas as pd\n",
    "n=0\n",
    "while n<=5:\n",
    "    doc_srch = ElsSearch(\"src(artificial intelligence in medicine) AND text(*a*)\",'sciencedirect')\n",
    "    doc_srch.execute(client, get_all = False)\n",
    "    print (\"doc_srch has\", len(doc_srch.results), \"results.\")\n",
    "    results = pd.DataFrame(doc_srch.results)\n",
    "    results.drop_duplicates(subset = \"pii\")\n",
    "    for pii in list(results['pii']):\n",
    "        pii_doc = FullDoc(sd_pii = pii)\n",
    "        if pii_doc.read(client):\n",
    "            print (\"pii_doc.title: \", pii_doc.title)\n",
    "            pii_doc.write()   \n",
    "        else:\n",
    "            print (\"Read document failed.\")\n",
    "    n=n+1"
   ]
  },
  {
   "cell_type": "code",
   "execution_count": 57,
   "metadata": {},
   "outputs": [
    {
     "data": {
      "text/plain": [
       "(0, 0)"
      ]
     },
     "execution_count": 57,
     "metadata": {},
     "output_type": "execute_result"
    }
   ],
   "source": [
    "all_res.drop_duplicates(subset = \"pii\")\n",
    "for pii in list(all_res['pii']):\n",
    "    pii_doc = FullDoc(sd_pii = pii)\n",
    "    if pii_doc.read(client):\n",
    "        print (\"pii_doc.title: \", pii_doc.title)\n",
    "        pii_doc.write()   \n",
    "    else:\n",
    "        print (\"Read document failed.\")"
   ]
  }
 ],
 "metadata": {
  "kernelspec": {
   "display_name": "Python 3",
   "language": "python",
   "name": "python3"
  },
  "language_info": {
   "codemirror_mode": {
    "name": "ipython",
    "version": 3
   },
   "file_extension": ".py",
   "mimetype": "text/x-python",
   "name": "python",
   "nbconvert_exporter": "python",
   "pygments_lexer": "ipython3",
   "version": "3.8.2"
  }
 },
 "nbformat": 4,
 "nbformat_minor": 2
}
