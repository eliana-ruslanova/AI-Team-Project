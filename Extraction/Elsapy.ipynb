{
 "cells": [
  {
   "cell_type": "code",
   "execution_count": 1,
   "metadata": {},
   "outputs": [],
   "source": [
    "\"\"\"An example program that uses the elsapy module\"\"\"\n",
    "\n",
    "from elsapy.elsclient import ElsClient\n",
    "from elsapy.elsprofile import ElsAuthor, ElsAffil\n",
    "from elsapy.elsdoc import FullDoc, AbsDoc\n",
    "from elsapy.elssearch import ElsSearch\n",
    "import json\n",
    "    \n",
    "## Load configuration\n",
    "con_file = open(\"config.json\")\n",
    "config = json.load(con_file)\n",
    "con_file.close()"
   ]
  },
  {
   "cell_type": "code",
   "execution_count": 2,
   "metadata": {},
   "outputs": [],
   "source": [
    "## Initialize client\n",
    "client = ElsClient(config['apikey'])\n",
    "#client.inst_token = config['insttoken']"
   ]
  },
  {
   "cell_type": "code",
   "execution_count": 3,
   "metadata": {},
   "outputs": [
    {
     "name": "stdout",
     "output_type": "stream",
     "text": [
      "doi_doc.title:  A method for automated temporal knowledge acquisition applied to sleep-related breathing disorders \n"
     ]
    }
   ],
   "source": [
    "## ScienceDirect (full-text) document example using DOI\n",
    "doi_doc = FullDoc(doi = '10.1016/S0933-3657(01)00089-6')\n",
    "if doi_doc.read(client):\n",
    "    print (\"doi_doc.title: \", doi_doc.title)\n",
    "    doi_doc.write()   \n",
    "else:\n",
    "    print (\"Read document failed.\")"
   ]
  },
  {
   "cell_type": "code",
   "execution_count": 6,
   "metadata": {},
   "outputs": [
    {
     "name": "stdout",
     "output_type": "stream",
     "text": [
      "doc_srch has 25 results.\n"
     ]
    }
   ],
   "source": [
    "## Initialize doc search object using ScienceDirect and execute search, \n",
    "#   retrieving all results\n",
    "doc_srch = ElsSearch(\"artificial intelligence in medicine\",'sciencedirect')\n",
    "doc_srch.execute(client, get_all = False)\n",
    "print (\"doc_srch has\", len(doc_srch.results), \"results.\")"
   ]
  },
  {
   "cell_type": "code",
   "execution_count": 18,
   "metadata": {},
   "outputs": [
    {
     "data": {
      "text/plain": [
       "0     S1076633219304581\n",
       "1     S1052515720300118\n",
       "2     S027263861930842X\n",
       "3     S2452318620300192\n",
       "4     S2352340919312491\n",
       "5     S0737080620300642\n",
       "6     S0889858819300966\n",
       "7     S0846537119300063\n",
       "8     S0303846720300615\n",
       "9     S0009912018311974\n",
       "10    S0960977620300096\n",
       "11    S2211883718301758\n",
       "12    S074906902030029X\n",
       "13    S2095809920300035\n",
       "14    S2589238X20300127\n",
       "15    S1001929419300288\n",
       "16    S0720048X19304243\n",
       "17    S2001037020300325\n",
       "18    S1473050218301721\n",
       "19    S0022073619307046\n",
       "20    S1076633219304428\n",
       "21    S235208171930193X\n",
       "22    S1532046419302308\n",
       "23    S0378378220301481\n",
       "24    S0303846720300755\n",
       "Name: pii, dtype: object"
      ]
     },
     "execution_count": 18,
     "metadata": {},
     "output_type": "execute_result"
    }
   ],
   "source": [
    "import pandas as pd\n",
    "results = pd.DataFrame(doc_srch.results)\n",
    "results['pii']"
   ]
  },
  {
   "cell_type": "code",
   "execution_count": 22,
   "metadata": {},
   "outputs": [
    {
     "name": "stdout",
     "output_type": "stream",
     "text": [
      "pii_doc.title:  Artificial Intelligence in Medicine: Where Are We Now? \n",
      "pii_doc.title:  How Artificial Intelligence Will Impact Colonoscopy and Colorectal Screening \n",
      "pii_doc.title:  Artificial Intelligence in Nephrology: Core Concepts, Clinical Applications, and Perspectives \n",
      "pii_doc.title:  Machine learning and artificial intelligence in the service of medicine: Necessity or potentiality? \n",
      "pii_doc.title:  Clinical trial design data for electrocardiogram artificial intelligence-guided screening for low ejection fraction (EAGLE)\n",
      "pii_doc.title:  Using Artificial Intelligence to Predict Survivability Likelihood and Need for Surgery in Horses Presented With Acute Abdomen (Colic) \n",
      "pii_doc.title:  Artificial Intelligence in Radiation Oncology \n",
      "pii_doc.title:  Canadian Association of Radiologists White Paper on Ethical and Legal Issues Related to Artificial Intelligence in Radiology\n",
      "pii_doc.title:  Using artificial intelligence (AI) to predict postoperative surgical site infection: A retrospective cohort of 4046 posterior spinal fusions \n",
      "pii_doc.title:  Data science, artificial intelligence, and machine learning: Opportunities for laboratory medicine and the value of positive regulation \n",
      "pii_doc.title:  Using artificial intelligence to analyse and teach communication in healthcare\n",
      "pii_doc.title:  Artificial intelligence in medicine: What is it doing for us today? \n",
      "pii_doc.title:  Artificial Intelligence and Digital Tools: Future of Diabetes Care \n",
      "pii_doc.title:  From Brain Science to Artificial Intelligence\n",
      "pii_doc.title:  Artificial intelligence: The dawn of a new era for cutting-edge technology based diagnosis and treatment for stroke\n",
      "pii_doc.title:  Artificial Intelligence in Healthcare and Medicine: Promises, Ethical Challenges and Governance \n",
      "pii_doc.title:  Artificial intelligence applications for thoracic imaging \n",
      "pii_doc.title:  Artificial intelligence in tongue diagnosis: Using deep convolutional neural network for recognizing unhealthy tongue with tooth-mark\n",
      "pii_doc.title:  Artificial intelligence: A joint narrative on potential use in pediatric stem and immune cell therapies and regenerative medicine \n",
      "pii_doc.title:  Artificial intelligence for detecting mitral regurgitation using electrocardiography \n",
      "pii_doc.title:  Artificial Intelligence in Radiology: Summary of the AUR Academic Radiology and Industry Leaders Roundtable \n",
      "pii_doc.title:  Current status and applications of Artificial Intelligence (AI) in medical field: An overview \n",
      "pii_doc.title:  Transforming healthcare with big data analytics and artificial intelligence: A systematic mapping study \n",
      "pii_doc.title:  Artificial intelligence in medicine \n",
      "pii_doc.title:  Artificial intelligence outperforms human students in conducting neurosurgical audits \n"
     ]
    }
   ],
   "source": [
    "for pii in list(results['pii']):\n",
    "    pii_doc = FullDoc(sd_pii = pii)\n",
    "    if pii_doc.read(client):\n",
    "        print (\"pii_doc.title: \", pii_doc.title)\n",
    "        pii_doc.write()   \n",
    "    else:\n",
    "        print (\"Read document failed.\")"
   ]
  },
  {
   "cell_type": "code",
   "execution_count": 12,
   "metadata": {
    "scrolled": true
   },
   "outputs": [
    {
     "name": "stdout",
     "output_type": "stream",
     "text": [
      "doc_srch has 25 results.\n",
      "pii_doc.title:  A multi-context CNN ensemble for small lesion detection \n",
      "pii_doc.title:  The impact of machine learning on patient care: A systematic review \n",
      "pii_doc.title:  A novel method of motor imagery classification using eeg signal \n",
      "pii_doc.title:  The role of medical smartphone apps in clinical decision-support: A literature review \n",
      "pii_doc.title:  Combining clustering and classification ensembles: A novel pipeline to identify breast cancer profiles \n",
      "pii_doc.title:  Ophthalmic diagnosis using deep learning with fundus images – A critical review \n",
      "pii_doc.title:  A survey on computer-assisted Parkinson's Disease diagnosis \n",
      "pii_doc.title:  Pharmacological therapy selection of type 2 diabetes based on the SWARA and modified MULTIMOORA methods under a fuzzy environment \n",
      "pii_doc.title:  Using echo state networks for classification: A case study in Parkinson's disease diagnosis \n",
      "pii_doc.title:  Prediction of lung cancer incidence on the low-dose computed tomography arm of the National Lung Screening Trial: A dynamic Bayesian network \n",
      "pii_doc.title:  Modeling and processing up-to-dateness of patient information in probabilistic therapy decision support \n",
      "pii_doc.title:  Handling limited datasets with neural networks in medical applications: A small-data approach\n",
      "pii_doc.title:  An effective approach for CT lung segmentation using mask region-based convolutional neural networks \n",
      "pii_doc.title:  Multi-objective evolutionary design of antibiotic treatments \n",
      "pii_doc.title:  Toward Development of PreVoid Alerting System for Nocturnal Enuresis Patients: A Fuzzy-Based Approach for Determining the Level of Liquid Encased in Urinary Bladder \n",
      "pii_doc.title:  A multicenter random forest model for effective prognosis prediction in collaborative clinical research network \n",
      "pii_doc.title:  Predicting dementia with routine care EMR data \n",
      "pii_doc.title:  Fuzzy support vector machine-based personalizing method to address the inter-subject variance problem of physiological signals in a driver monitoring system \n",
      "pii_doc.title:  A recurrent neural network approach to predicting hemoglobin trajectories in patients with End-Stage Renal Disease \n",
      "pii_doc.title:  Learning from healthy and stable eyes: A new approach for detection of glaucomatous progression \n",
      "pii_doc.title:  A methodology based on multiple criteria decision analysis for combining antibiotics in empirical therapy \n",
      "pii_doc.title:  Classifying cancer pathology reports with hierarchical self-attention networks\n",
      "pii_doc.title:  Reinforcement learning application in diabetes blood glucose control: A systematic review \n",
      "pii_doc.title:  A fuzzy-ontology-oriented case-based reasoning framework for semantic diabetes diagnosis \n",
      "pii_doc.title:  Artificial intelligence and the future of psychiatry: Insights from a global physician survey \n",
      "doc_srch has 25 results.\n",
      "pii_doc.title:  A multi-context CNN ensemble for small lesion detection \n",
      "pii_doc.title:  The impact of machine learning on patient care: A systematic review \n",
      "pii_doc.title:  A novel method of motor imagery classification using eeg signal \n",
      "pii_doc.title:  The role of medical smartphone apps in clinical decision-support: A literature review \n",
      "pii_doc.title:  Combining clustering and classification ensembles: A novel pipeline to identify breast cancer profiles \n",
      "pii_doc.title:  Ophthalmic diagnosis using deep learning with fundus images – A critical review \n",
      "pii_doc.title:  A survey on computer-assisted Parkinson's Disease diagnosis \n",
      "pii_doc.title:  Pharmacological therapy selection of type 2 diabetes based on the SWARA and modified MULTIMOORA methods under a fuzzy environment \n",
      "pii_doc.title:  Using echo state networks for classification: A case study in Parkinson's disease diagnosis \n",
      "pii_doc.title:  Prediction of lung cancer incidence on the low-dose computed tomography arm of the National Lung Screening Trial: A dynamic Bayesian network \n",
      "pii_doc.title:  Modeling and processing up-to-dateness of patient information in probabilistic therapy decision support \n",
      "pii_doc.title:  Handling limited datasets with neural networks in medical applications: A small-data approach\n",
      "pii_doc.title:  An effective approach for CT lung segmentation using mask region-based convolutional neural networks \n",
      "pii_doc.title:  Multi-objective evolutionary design of antibiotic treatments \n",
      "pii_doc.title:  Toward Development of PreVoid Alerting System for Nocturnal Enuresis Patients: A Fuzzy-Based Approach for Determining the Level of Liquid Encased in Urinary Bladder \n",
      "pii_doc.title:  A multicenter random forest model for effective prognosis prediction in collaborative clinical research network \n",
      "pii_doc.title:  Predicting dementia with routine care EMR data \n",
      "pii_doc.title:  Fuzzy support vector machine-based personalizing method to address the inter-subject variance problem of physiological signals in a driver monitoring system \n",
      "pii_doc.title:  A recurrent neural network approach to predicting hemoglobin trajectories in patients with End-Stage Renal Disease \n",
      "pii_doc.title:  Learning from healthy and stable eyes: A new approach for detection of glaucomatous progression \n",
      "pii_doc.title:  A methodology based on multiple criteria decision analysis for combining antibiotics in empirical therapy \n",
      "pii_doc.title:  Classifying cancer pathology reports with hierarchical self-attention networks\n",
      "pii_doc.title:  Reinforcement learning application in diabetes blood glucose control: A systematic review \n",
      "pii_doc.title:  A fuzzy-ontology-oriented case-based reasoning framework for semantic diabetes diagnosis \n",
      "pii_doc.title:  Artificial intelligence and the future of psychiatry: Insights from a global physician survey \n",
      "doc_srch has 25 results.\n",
      "pii_doc.title:  A multi-context CNN ensemble for small lesion detection \n",
      "pii_doc.title:  The impact of machine learning on patient care: A systematic review \n",
      "pii_doc.title:  A novel method of motor imagery classification using eeg signal \n",
      "pii_doc.title:  The role of medical smartphone apps in clinical decision-support: A literature review \n",
      "pii_doc.title:  Combining clustering and classification ensembles: A novel pipeline to identify breast cancer profiles \n",
      "pii_doc.title:  Ophthalmic diagnosis using deep learning with fundus images – A critical review \n",
      "pii_doc.title:  A survey on computer-assisted Parkinson's Disease diagnosis \n",
      "pii_doc.title:  Pharmacological therapy selection of type 2 diabetes based on the SWARA and modified MULTIMOORA methods under a fuzzy environment \n",
      "pii_doc.title:  Using echo state networks for classification: A case study in Parkinson's disease diagnosis \n",
      "pii_doc.title:  Prediction of lung cancer incidence on the low-dose computed tomography arm of the National Lung Screening Trial: A dynamic Bayesian network \n",
      "pii_doc.title:  Modeling and processing up-to-dateness of patient information in probabilistic therapy decision support \n",
      "pii_doc.title:  Handling limited datasets with neural networks in medical applications: A small-data approach\n",
      "pii_doc.title:  An effective approach for CT lung segmentation using mask region-based convolutional neural networks \n",
      "pii_doc.title:  Multi-objective evolutionary design of antibiotic treatments \n",
      "pii_doc.title:  Toward Development of PreVoid Alerting System for Nocturnal Enuresis Patients: A Fuzzy-Based Approach for Determining the Level of Liquid Encased in Urinary Bladder \n",
      "pii_doc.title:  A multicenter random forest model for effective prognosis prediction in collaborative clinical research network \n",
      "pii_doc.title:  Predicting dementia with routine care EMR data \n",
      "pii_doc.title:  Fuzzy support vector machine-based personalizing method to address the inter-subject variance problem of physiological signals in a driver monitoring system \n",
      "pii_doc.title:  A recurrent neural network approach to predicting hemoglobin trajectories in patients with End-Stage Renal Disease \n",
      "pii_doc.title:  Learning from healthy and stable eyes: A new approach for detection of glaucomatous progression \n",
      "pii_doc.title:  A methodology based on multiple criteria decision analysis for combining antibiotics in empirical therapy \n",
      "pii_doc.title:  Classifying cancer pathology reports with hierarchical self-attention networks\n",
      "pii_doc.title:  Reinforcement learning application in diabetes blood glucose control: A systematic review \n"
     ]
    },
    {
     "name": "stdout",
     "output_type": "stream",
     "text": [
      "pii_doc.title:  A fuzzy-ontology-oriented case-based reasoning framework for semantic diabetes diagnosis \n",
      "pii_doc.title:  Artificial intelligence and the future of psychiatry: Insights from a global physician survey \n",
      "doc_srch has 25 results.\n",
      "pii_doc.title:  A multi-context CNN ensemble for small lesion detection \n",
      "pii_doc.title:  The impact of machine learning on patient care: A systematic review \n",
      "pii_doc.title:  A novel method of motor imagery classification using eeg signal \n",
      "pii_doc.title:  The role of medical smartphone apps in clinical decision-support: A literature review \n",
      "pii_doc.title:  Combining clustering and classification ensembles: A novel pipeline to identify breast cancer profiles \n",
      "pii_doc.title:  Ophthalmic diagnosis using deep learning with fundus images – A critical review \n",
      "pii_doc.title:  A survey on computer-assisted Parkinson's Disease diagnosis \n",
      "pii_doc.title:  Pharmacological therapy selection of type 2 diabetes based on the SWARA and modified MULTIMOORA methods under a fuzzy environment \n",
      "pii_doc.title:  Using echo state networks for classification: A case study in Parkinson's disease diagnosis \n",
      "pii_doc.title:  Prediction of lung cancer incidence on the low-dose computed tomography arm of the National Lung Screening Trial: A dynamic Bayesian network \n",
      "pii_doc.title:  Modeling and processing up-to-dateness of patient information in probabilistic therapy decision support \n",
      "pii_doc.title:  Handling limited datasets with neural networks in medical applications: A small-data approach\n",
      "pii_doc.title:  An effective approach for CT lung segmentation using mask region-based convolutional neural networks \n",
      "pii_doc.title:  Multi-objective evolutionary design of antibiotic treatments \n",
      "pii_doc.title:  Toward Development of PreVoid Alerting System for Nocturnal Enuresis Patients: A Fuzzy-Based Approach for Determining the Level of Liquid Encased in Urinary Bladder \n",
      "pii_doc.title:  A multicenter random forest model for effective prognosis prediction in collaborative clinical research network \n",
      "pii_doc.title:  Predicting dementia with routine care EMR data \n",
      "pii_doc.title:  Fuzzy support vector machine-based personalizing method to address the inter-subject variance problem of physiological signals in a driver monitoring system \n",
      "pii_doc.title:  A recurrent neural network approach to predicting hemoglobin trajectories in patients with End-Stage Renal Disease \n",
      "pii_doc.title:  Learning from healthy and stable eyes: A new approach for detection of glaucomatous progression \n",
      "pii_doc.title:  A methodology based on multiple criteria decision analysis for combining antibiotics in empirical therapy \n",
      "pii_doc.title:  Classifying cancer pathology reports with hierarchical self-attention networks\n",
      "pii_doc.title:  Reinforcement learning application in diabetes blood glucose control: A systematic review \n",
      "pii_doc.title:  A fuzzy-ontology-oriented case-based reasoning framework for semantic diabetes diagnosis \n",
      "pii_doc.title:  Artificial intelligence and the future of psychiatry: Insights from a global physician survey \n",
      "doc_srch has 25 results.\n",
      "pii_doc.title:  A multi-context CNN ensemble for small lesion detection \n",
      "pii_doc.title:  The impact of machine learning on patient care: A systematic review \n",
      "pii_doc.title:  A novel method of motor imagery classification using eeg signal \n",
      "pii_doc.title:  The role of medical smartphone apps in clinical decision-support: A literature review \n",
      "pii_doc.title:  Combining clustering and classification ensembles: A novel pipeline to identify breast cancer profiles \n",
      "pii_doc.title:  Ophthalmic diagnosis using deep learning with fundus images – A critical review \n",
      "pii_doc.title:  A survey on computer-assisted Parkinson's Disease diagnosis \n",
      "pii_doc.title:  Pharmacological therapy selection of type 2 diabetes based on the SWARA and modified MULTIMOORA methods under a fuzzy environment \n",
      "pii_doc.title:  Using echo state networks for classification: A case study in Parkinson's disease diagnosis \n",
      "pii_doc.title:  Prediction of lung cancer incidence on the low-dose computed tomography arm of the National Lung Screening Trial: A dynamic Bayesian network \n",
      "pii_doc.title:  Modeling and processing up-to-dateness of patient information in probabilistic therapy decision support \n",
      "pii_doc.title:  Handling limited datasets with neural networks in medical applications: A small-data approach\n",
      "pii_doc.title:  An effective approach for CT lung segmentation using mask region-based convolutional neural networks \n",
      "pii_doc.title:  Multi-objective evolutionary design of antibiotic treatments \n",
      "pii_doc.title:  Toward Development of PreVoid Alerting System for Nocturnal Enuresis Patients: A Fuzzy-Based Approach for Determining the Level of Liquid Encased in Urinary Bladder \n",
      "pii_doc.title:  A multicenter random forest model for effective prognosis prediction in collaborative clinical research network \n",
      "pii_doc.title:  Predicting dementia with routine care EMR data \n",
      "pii_doc.title:  Fuzzy support vector machine-based personalizing method to address the inter-subject variance problem of physiological signals in a driver monitoring system \n",
      "pii_doc.title:  A recurrent neural network approach to predicting hemoglobin trajectories in patients with End-Stage Renal Disease \n",
      "pii_doc.title:  Learning from healthy and stable eyes: A new approach for detection of glaucomatous progression \n",
      "pii_doc.title:  A methodology based on multiple criteria decision analysis for combining antibiotics in empirical therapy \n",
      "pii_doc.title:  Classifying cancer pathology reports with hierarchical self-attention networks\n",
      "pii_doc.title:  Reinforcement learning application in diabetes blood glucose control: A systematic review \n",
      "pii_doc.title:  A fuzzy-ontology-oriented case-based reasoning framework for semantic diabetes diagnosis \n",
      "pii_doc.title:  Artificial intelligence and the future of psychiatry: Insights from a global physician survey \n",
      "doc_srch has 25 results.\n",
      "pii_doc.title:  A multi-context CNN ensemble for small lesion detection \n",
      "pii_doc.title:  The impact of machine learning on patient care: A systematic review \n",
      "pii_doc.title:  A novel method of motor imagery classification using eeg signal \n",
      "pii_doc.title:  The role of medical smartphone apps in clinical decision-support: A literature review \n",
      "pii_doc.title:  Combining clustering and classification ensembles: A novel pipeline to identify breast cancer profiles \n",
      "pii_doc.title:  Ophthalmic diagnosis using deep learning with fundus images – A critical review \n",
      "pii_doc.title:  A survey on computer-assisted Parkinson's Disease diagnosis \n",
      "pii_doc.title:  Pharmacological therapy selection of type 2 diabetes based on the SWARA and modified MULTIMOORA methods under a fuzzy environment \n",
      "pii_doc.title:  Using echo state networks for classification: A case study in Parkinson's disease diagnosis \n",
      "pii_doc.title:  Prediction of lung cancer incidence on the low-dose computed tomography arm of the National Lung Screening Trial: A dynamic Bayesian network \n",
      "pii_doc.title:  Modeling and processing up-to-dateness of patient information in probabilistic therapy decision support \n",
      "pii_doc.title:  Handling limited datasets with neural networks in medical applications: A small-data approach\n",
      "pii_doc.title:  An effective approach for CT lung segmentation using mask region-based convolutional neural networks \n",
      "pii_doc.title:  Multi-objective evolutionary design of antibiotic treatments \n",
      "pii_doc.title:  Toward Development of PreVoid Alerting System for Nocturnal Enuresis Patients: A Fuzzy-Based Approach for Determining the Level of Liquid Encased in Urinary Bladder \n",
      "pii_doc.title:  A multicenter random forest model for effective prognosis prediction in collaborative clinical research network \n",
      "pii_doc.title:  Predicting dementia with routine care EMR data \n",
      "pii_doc.title:  A recurrent neural network approach to predicting hemoglobin trajectories in patients with End-Stage Renal Disease \n",
      "pii_doc.title:  Fuzzy support vector machine-based personalizing method to address the inter-subject variance problem of physiological signals in a driver monitoring system \n",
      "pii_doc.title:  Learning from healthy and stable eyes: A new approach for detection of glaucomatous progression \n",
      "pii_doc.title:  A methodology based on multiple criteria decision analysis for combining antibiotics in empirical therapy \n"
     ]
    },
    {
     "name": "stdout",
     "output_type": "stream",
     "text": [
      "pii_doc.title:  Classifying cancer pathology reports with hierarchical self-attention networks\n",
      "pii_doc.title:  Reinforcement learning application in diabetes blood glucose control: A systematic review \n",
      "pii_doc.title:  A fuzzy-ontology-oriented case-based reasoning framework for semantic diabetes diagnosis \n",
      "pii_doc.title:  Artificial intelligence and the future of psychiatry: Insights from a global physician survey \n"
     ]
    }
   ],
   "source": [
    "## Initialize doc search object using ScienceDirect and execute search, \n",
    "#   retrieving all results\n",
    "import pandas as pd\n",
    "n=0\n",
    "while n<=5:\n",
    "    doc_srch = ElsSearch(\"src(artificial intelligence in medicine) AND text(*a*)\",'sciencedirect')\n",
    "    doc_srch.execute(client, get_all = False)\n",
    "    print (\"doc_srch has\", len(doc_srch.results), \"results.\")\n",
    "    results = pd.DataFrame(doc_srch.results)\n",
    "    results.drop_duplicates(subset = \"pii\")\n",
    "    for pii in list(results['pii']):\n",
    "        pii_doc = FullDoc(sd_pii = pii)\n",
    "        if pii_doc.read(client):\n",
    "            print (\"pii_doc.title: \", pii_doc.title)\n",
    "            pii_doc.write()   \n",
    "        else:\n",
    "            print (\"Read document failed.\")\n",
    "    n=n+1"
   ]
  },
  {
   "cell_type": "code",
   "execution_count": 57,
   "metadata": {},
   "outputs": [
    {
     "data": {
      "text/plain": [
       "(0, 0)"
      ]
     },
     "execution_count": 57,
     "metadata": {},
     "output_type": "execute_result"
    }
   ],
   "source": [
    "all_res.drop_duplicates(subset = \"pii\")\n",
    "for pii in list(all_res['pii']):\n",
    "    pii_doc = FullDoc(sd_pii = pii)\n",
    "    if pii_doc.read(client):\n",
    "        print (\"pii_doc.title: \", pii_doc.title)\n",
    "        pii_doc.write()   \n",
    "    else:\n",
    "        print (\"Read document failed.\")"
   ]
  }
 ],
 "metadata": {
  "kernelspec": {
   "display_name": "Python 3",
   "language": "python",
   "name": "python3"
  },
  "language_info": {
   "codemirror_mode": {
    "name": "ipython",
    "version": 3
   },
   "file_extension": ".py",
   "mimetype": "text/x-python",
   "name": "python",
   "nbconvert_exporter": "python",
   "pygments_lexer": "ipython3",
   "version": "3.7.3"
  }
 },
 "nbformat": 4,
 "nbformat_minor": 2
}
