{
 "cells": [
  {
   "cell_type": "code",
   "execution_count": 28,
   "metadata": {},
   "outputs": [],
   "source": [
    "import pandas as pd #for handling csv and csv contents\n",
    "from rdflib import Graph, Literal, RDF, URIRef, Namespace #basic RDF handling\n",
    "from rdflib.namespace import FOAF , XSD, RDFS, DCTERMS #most common namespaces\n",
    "import urllib.parse #for parsing strings to URI's\n",
    "import numpy as np\n",
    "from array import array"
   ]
  },
  {
   "cell_type": "code",
   "execution_count": 29,
   "metadata": {},
   "outputs": [],
   "source": [
    "g = Graph()\n",
    "title = Namespace('http://example.org/title/')\n",
    "author = Namespace('http://example.org/author/')\n",
    "year = Namespace('http://example.org/year/')\n",
    "doi = Namespace('http://example.org/doi/')\n",
    "pmid = Namespace('http://example.org/PMID/')\n",
    "journal = Namespace('http://example.org/journal/')\n",
    "volume = Namespace('http://example.org/volume/')\n",
    "abstract = Namespace('http://example.org/abstract/')\n",
    "keyword_abstract = Namespace('http://example.org/keyword_abstract/')\n",
    "keyword_mesh = Namespace('http://example.org/keywords_mesh/')\n",
    "keyword_merged = Namespace('http://example.org/keywords_merged/')\n",
    "links = Namespace('http://example.org/fulltext_links/')\n",
    "articles = Namespace('http://example.org/related_articles/')\n",
    "fields = Namespace('http://example.org/fields/')\n",
    "subfields = Namespace('http://example.org/subfield/')\n",
    "aimethod = Namespace('http://example.org/ai_method')"
   ]
  },
  {
   "cell_type": "code",
   "execution_count": 30,
   "metadata": {},
   "outputs": [
    {
     "data": {
      "text/html": [
       "<div>\n",
       "<style scoped>\n",
       "    .dataframe tbody tr th:only-of-type {\n",
       "        vertical-align: middle;\n",
       "    }\n",
       "\n",
       "    .dataframe tbody tr th {\n",
       "        vertical-align: top;\n",
       "    }\n",
       "\n",
       "    .dataframe thead th {\n",
       "        text-align: right;\n",
       "    }\n",
       "</style>\n",
       "<table border=\"1\" class=\"dataframe\">\n",
       "  <thead>\n",
       "    <tr style=\"text-align: right;\">\n",
       "      <th></th>\n",
       "      <th>Title</th>\n",
       "      <th>Authors</th>\n",
       "      <th>Year</th>\n",
       "      <th>Doi</th>\n",
       "      <th>PMID</th>\n",
       "      <th>Journal</th>\n",
       "      <th>Volume</th>\n",
       "      <th>Abstract</th>\n",
       "      <th>Keywords_Abstract</th>\n",
       "      <th>Keywords_MeSH</th>\n",
       "      <th>Keywords_Merged</th>\n",
       "      <th>FullTextLinks</th>\n",
       "      <th>Related Articles</th>\n",
       "    </tr>\n",
       "  </thead>\n",
       "  <tbody>\n",
       "    <tr>\n",
       "      <th>0</th>\n",
       "      <td>Clipping in neurocontrol by adaptive dynamic p...</td>\n",
       "      <td>Michael Fairbank; Danil Prokhorov; Eduardo Alo...</td>\n",
       "      <td>2014</td>\n",
       "      <td>10.1109/TNNLS.2014.2297991</td>\n",
       "      <td>25291742</td>\n",
       "      <td>IEEE Trans Neural Netw Learn Syst</td>\n",
       "      <td>25</td>\n",
       "      <td>In adaptive dynamic programming, neurocontrol...</td>\n",
       "      <td></td>\n",
       "      <td>Algorithms;  Artificial Intelligence*;  Comput...</td>\n",
       "      <td>Algorithms;  Artificial Intelligence*;  Comp...</td>\n",
       "      <td>[https://dx.doi.org/10.1109/TNNLS.2014.2297991]</td>\n",
       "      <td>19842990,25751878,23954546,19386468,24995352</td>\n",
       "    </tr>\n",
       "    <tr>\n",
       "      <th>1</th>\n",
       "      <td>A scalable FPGA-based cerebellum for passage-o...</td>\n",
       "      <td>Junwen Luo; Graeme Coapes; Terrence Mak; Tadas...</td>\n",
       "      <td>2014</td>\n",
       "      <td>10.1109/EMBC.2014.6944279</td>\n",
       "      <td>25570647</td>\n",
       "      <td>Conf Proc IEEE Eng Med Biol Soc</td>\n",
       "      <td>2014</td>\n",
       "      <td>The cerebellum plays a critical role for sens...</td>\n",
       "      <td></td>\n",
       "      <td>Research Support, Non-U.S. Gov't;  Animals;  A...</td>\n",
       "      <td>Research Support, Non-U.S. Gov't;  Animals; ...</td>\n",
       "      <td>[https://dx.doi.org/10.1109/EMBC.2014.6944279]</td>\n",
       "      <td>26452290,29115280,17953620,19495900,18807937</td>\n",
       "    </tr>\n",
       "    <tr>\n",
       "      <th>2</th>\n",
       "      <td>Epileptic EEG classification based on kernel s...</td>\n",
       "      <td>Qi Yuan; Weidong Zhou; Shasha Yuan; Xueli Li; ...</td>\n",
       "      <td>2014</td>\n",
       "      <td>10.1142/S0129065714500154</td>\n",
       "      <td>24694170</td>\n",
       "      <td>Int J Neural Syst</td>\n",
       "      <td>24</td>\n",
       "      <td>The automatic identification of epileptic EEG...</td>\n",
       "      <td></td>\n",
       "      <td>Research Support, Non-U.S. Gov't;  Artificial ...</td>\n",
       "      <td>Research Support, Non-U.S. Gov't;  Artificia...</td>\n",
       "      <td>[https://www.worldscientific.com/doi/10.1142/S...</td>\n",
       "      <td>30076538,25653073,21616643,27458376,16013270,3...</td>\n",
       "    </tr>\n",
       "    <tr>\n",
       "      <th>3</th>\n",
       "      <td>MS2CNN: predicting MS/MS spectrum based on pro...</td>\n",
       "      <td>Yang-Ming Lin; Ching-Tai Chen; Jia-Ming Chang;</td>\n",
       "      <td>2019</td>\n",
       "      <td>10.1186/s12864-019-6297-6</td>\n",
       "      <td>31874640</td>\n",
       "      <td>BMC Genomics</td>\n",
       "      <td>20</td>\n",
       "      <td>Background:  Tandem mass spectrometry allows...</td>\n",
       "      <td>Deep convolutional neural networks; Deep lea...</td>\n",
       "      <td>Evaluation Study;  Deep Learning;  HeLa Cells;...</td>\n",
       "      <td>Deep convolutional neural networks; Deep lea...</td>\n",
       "      <td>[https://bmcgenomics.biomedcentral.com/article...</td>\n",
       "      <td>29125736,31847456,23695934,22610447,30417778</td>\n",
       "    </tr>\n",
       "    <tr>\n",
       "      <th>4</th>\n",
       "      <td>Ultrasound Image Segmentation: A Deeply Superv...</td>\n",
       "      <td>Deepak Mishra; Santanu Chaudhury; Mukul Sarkar...</td>\n",
       "      <td>2019</td>\n",
       "      <td>10.1109/TBME.2018.2877577</td>\n",
       "      <td>30346279</td>\n",
       "      <td>IEEE Trans Biomed Eng</td>\n",
       "      <td>66</td>\n",
       "      <td>Objective:  Segmentation of anatomical struc...</td>\n",
       "      <td></td>\n",
       "      <td>Research Support, Non-U.S. Gov't;  Blood Vesse...</td>\n",
       "      <td>Research Support, Non-U.S. Gov't;  Blood Ves...</td>\n",
       "      <td>[https://dx.doi.org/10.1109/TBME.2018.2877577]</td>\n",
       "      <td>30136285,31356693,31074513,32030668,28445774,3...</td>\n",
       "    </tr>\n",
       "  </tbody>\n",
       "</table>\n",
       "</div>"
      ],
      "text/plain": [
       "                                               Title  \\\n",
       "0  Clipping in neurocontrol by adaptive dynamic p...   \n",
       "1  A scalable FPGA-based cerebellum for passage-o...   \n",
       "2  Epileptic EEG classification based on kernel s...   \n",
       "3  MS2CNN: predicting MS/MS spectrum based on pro...   \n",
       "4  Ultrasound Image Segmentation: A Deeply Superv...   \n",
       "\n",
       "                                             Authors  Year  \\\n",
       "0  Michael Fairbank; Danil Prokhorov; Eduardo Alo...  2014   \n",
       "1  Junwen Luo; Graeme Coapes; Terrence Mak; Tadas...  2014   \n",
       "2  Qi Yuan; Weidong Zhou; Shasha Yuan; Xueli Li; ...  2014   \n",
       "3    Yang-Ming Lin; Ching-Tai Chen; Jia-Ming Chang;   2019   \n",
       "4  Deepak Mishra; Santanu Chaudhury; Mukul Sarkar...  2019   \n",
       "\n",
       "                          Doi      PMID                            Journal  \\\n",
       "0  10.1109/TNNLS.2014.2297991  25291742  IEEE Trans Neural Netw Learn Syst   \n",
       "1   10.1109/EMBC.2014.6944279  25570647    Conf Proc IEEE Eng Med Biol Soc   \n",
       "2   10.1142/S0129065714500154  24694170                  Int J Neural Syst   \n",
       "3   10.1186/s12864-019-6297-6  31874640                       BMC Genomics   \n",
       "4   10.1109/TBME.2018.2877577  30346279              IEEE Trans Biomed Eng   \n",
       "\n",
       "   Volume                                           Abstract  \\\n",
       "0      25   In adaptive dynamic programming, neurocontrol...   \n",
       "1    2014   The cerebellum plays a critical role for sens...   \n",
       "2      24   The automatic identification of epileptic EEG...   \n",
       "3      20    Background:  Tandem mass spectrometry allows...   \n",
       "4      66    Objective:  Segmentation of anatomical struc...   \n",
       "\n",
       "                                   Keywords_Abstract  \\\n",
       "0                                                      \n",
       "1                                                      \n",
       "2                                                      \n",
       "3    Deep convolutional neural networks; Deep lea...   \n",
       "4                                                      \n",
       "\n",
       "                                       Keywords_MeSH  \\\n",
       "0  Algorithms;  Artificial Intelligence*;  Comput...   \n",
       "1  Research Support, Non-U.S. Gov't;  Animals;  A...   \n",
       "2  Research Support, Non-U.S. Gov't;  Artificial ...   \n",
       "3  Evaluation Study;  Deep Learning;  HeLa Cells;...   \n",
       "4  Research Support, Non-U.S. Gov't;  Blood Vesse...   \n",
       "\n",
       "                                     Keywords_Merged  \\\n",
       "0    Algorithms;  Artificial Intelligence*;  Comp...   \n",
       "1    Research Support, Non-U.S. Gov't;  Animals; ...   \n",
       "2    Research Support, Non-U.S. Gov't;  Artificia...   \n",
       "3    Deep convolutional neural networks; Deep lea...   \n",
       "4    Research Support, Non-U.S. Gov't;  Blood Ves...   \n",
       "\n",
       "                                       FullTextLinks  \\\n",
       "0    [https://dx.doi.org/10.1109/TNNLS.2014.2297991]   \n",
       "1     [https://dx.doi.org/10.1109/EMBC.2014.6944279]   \n",
       "2  [https://www.worldscientific.com/doi/10.1142/S...   \n",
       "3  [https://bmcgenomics.biomedcentral.com/article...   \n",
       "4     [https://dx.doi.org/10.1109/TBME.2018.2877577]   \n",
       "\n",
       "                                    Related Articles  \n",
       "0       19842990,25751878,23954546,19386468,24995352  \n",
       "1       26452290,29115280,17953620,19495900,18807937  \n",
       "2  30076538,25653073,21616643,27458376,16013270,3...  \n",
       "3       29125736,31847456,23695934,22610447,30417778  \n",
       "4  30136285,31356693,31074513,32030668,28445774,3...  "
      ]
     },
     "execution_count": 30,
     "metadata": {},
     "output_type": "execute_result"
    }
   ],
   "source": [
    "df = pd.read_json(\"extractUntil2020.json\")\n",
    "df.to_csv()\n",
    "df.head(5)"
   ]
  },
  {
   "cell_type": "code",
   "execution_count": 31,
   "metadata": {},
   "outputs": [],
   "source": [
    "algorithms = pd.read_csv(\"Book1.csv\", sep=';')\n",
    "algorithms.head(30)\n",
    "\n",
    "\n",
    "regression = algorithms['regression'].values\n",
    "instance_based = algorithms['instance based'].values\n",
    "#regularization = algorithms['regularization'].values\n",
    "decision_tree = algorithms['decision tree'].values\n",
    "bayesian = algorithms['bayesian'].values\n",
    "clustering = algorithms['clustering'].values\n",
    "association_rule = algorithms['association rule learning'].values\n",
    "ann = algorithms['artificial neural network'].values\n",
    "deep_learning = algorithms['deepl learning'].values\n",
    "dimensionality_reduction = algorithms['dimensionality reduction'].values\n",
    "ensemble_algorithm = algorithms['ensemble algorithm'].values\n",
    "regularization = ['Ridge Regression','Least Absolute Shrinkage and Selection Operator','Elastic Net','Least-Angle Regression','LASSO','LARS']"
   ]
  },
  {
   "cell_type": "code",
   "execution_count": 32,
   "metadata": {},
   "outputs": [
    {
     "ename": "NameError",
     "evalue": "name 'ai_method' is not defined",
     "output_type": "error",
     "traceback": [
      "\u001b[0;31m---------------------------------------------------------------------------\u001b[0m",
      "\u001b[0;31mNameError\u001b[0m                                 Traceback (most recent call last)",
      "\u001b[0;32m<ipython-input-32-7cbe630b89b6>\u001b[0m in \u001b[0;36m<module>\u001b[0;34m\u001b[0m\n\u001b[1;32m     27\u001b[0m     \u001b[0;31m#g.add((URIRef(pmid+row['PMID']), URIRef(aimethod+'aimethod'), Literal(row['ai_method'])))\u001b[0m\u001b[0;34m\u001b[0m\u001b[0;34m\u001b[0m\u001b[0;34m\u001b[0m\u001b[0m\n\u001b[1;32m     28\u001b[0m     \u001b[0;31m#g.add((URIRef(loc+urllib.parse.quote(row['Address'])), URIRef(schema+'name'), Literal(row['Address'], datatype=XSD.string) ))\u001b[0m\u001b[0;34m\u001b[0m\u001b[0;34m\u001b[0m\u001b[0;34m\u001b[0m\u001b[0m\n\u001b[0;32m---> 29\u001b[0;31m     \u001b[0;32mfor\u001b[0m \u001b[0mx\u001b[0m \u001b[0;32min\u001b[0m \u001b[0mrow\u001b[0m\u001b[0;34m[\u001b[0m\u001b[0mai_method\u001b[0m\u001b[0;34m]\u001b[0m\u001b[0;34m:\u001b[0m\u001b[0;34m\u001b[0m\u001b[0;34m\u001b[0m\u001b[0m\n\u001b[0m\u001b[1;32m     30\u001b[0m         \u001b[0;32mif\u001b[0m \u001b[0mx\u001b[0m \u001b[0;32min\u001b[0m \u001b[0mregression\u001b[0m \u001b[0;34m:\u001b[0m\u001b[0;34m\u001b[0m\u001b[0;34m\u001b[0m\u001b[0m\n\u001b[1;32m     31\u001b[0m             \u001b[0mg\u001b[0m\u001b[0;34m.\u001b[0m\u001b[0madd\u001b[0m\u001b[0;34m(\u001b[0m\u001b[0;34m(\u001b[0m\u001b[0mURIRef\u001b[0m\u001b[0;34m(\u001b[0m\u001b[0mpmid\u001b[0m\u001b[0;34m+\u001b[0m\u001b[0mstr\u001b[0m\u001b[0;34m(\u001b[0m\u001b[0mrow\u001b[0m\u001b[0;34m[\u001b[0m\u001b[0;34m'PMID'\u001b[0m\u001b[0;34m]\u001b[0m\u001b[0;34m)\u001b[0m\u001b[0;34m)\u001b[0m\u001b[0;34m,\u001b[0m \u001b[0mURIRef\u001b[0m\u001b[0;34m(\u001b[0m\u001b[0mtitle\u001b[0m\u001b[0;34m+\u001b[0m\u001b[0;34m'regression'\u001b[0m\u001b[0;34m)\u001b[0m\u001b[0;34m,\u001b[0m \u001b[0mLiteral\u001b[0m\u001b[0;34m(\u001b[0m\u001b[0mx\u001b[0m\u001b[0;34m)\u001b[0m\u001b[0;34m)\u001b[0m\u001b[0;34m)\u001b[0m\u001b[0;34m\u001b[0m\u001b[0;34m\u001b[0m\u001b[0m\n",
      "\u001b[0;31mNameError\u001b[0m: name 'ai_method' is not defined"
     ]
    }
   ],
   "source": [
    "for index, row in df.iterrows():\n",
    "    \n",
    "    authors = str(row['Authors']).split(\";\")\n",
    "    for a in authors[:-1]:\n",
    "        g.add((URIRef(pmid+str(row['PMID'])), DCTERMS['creator'], Literal(a, datatype=XSD.string) ))\n",
    "        \n",
    "    keywords = str(row['Keywords_Merged']).split(\";\")\n",
    "    for key in keywords:\n",
    "        g.add((URIRef(pmid+str(row['PMID'])), URIRef(keyword_merged+'key_merged'), Literal(key, datatype=XSD.string) ))\n",
    "        \n",
    "    fullTexts = str(row['FullTextLinks']).split(\";\")\n",
    "    for text in fullTexts:\n",
    "        g.add((URIRef(pmid+str(row['PMID'])), RDFS.comment, Literal(text, datatype=XSD.string) ))\n",
    "        \n",
    "    related = str(row['FullTextLinks']).split(\";\")\n",
    "    for a in related:\n",
    "        g.add((URIRef(pmid+str(row['PMID'])), RDFS.seeAlso, Literal(a, datatype=XSD.string) ))\n",
    "    \n",
    "    g.add((URIRef(pmid+str(row['PMID'])),RDF.type, Literal(row['PMID'])))\n",
    "    g.add((URIRef(pmid+str(row['PMID'])), DCTERMS['identifier'], Literal(row['PMID']))) \n",
    "    g.add((URIRef(doi+str(row['PMID'])), DCTERMS['identifier'],Literal(row['Doi'], datatype=XSD.integer) ))\n",
    "    g.add((URIRef(pmid+str(row['PMID'])), DCTERMS['publisher'], Literal(row['Journal'], datatype=XSD.string) ))\n",
    "    #g.add((URIRef(pmid+str(row['PMID'])), URIRef(volume+'volume'), Literal(row['Volume'], datatype=XSD.string) ))\n",
    "    g.add((URIRef(pmid+str(row['PMID'])), DCTERMS['abstract'], Literal(row['Abstract'], datatype=XSD.string) ))\n",
    "    #g.add((URIRef(pmid+row['PMID']), URIRef(field+'field'), Literal(row['Field'], datatype=XSD.string) ))\n",
    "    #g.add((URIRef(pmid+row['PMID']), RDFS.subclassOf, Literal(row['Subfield'], datatype=XSD.string) ))\n",
    "    #g.add((URIRef(pmid+row['PMID']), URIRef(aimethod+'aimethod'), Literal(row['ai_method'])))\n",
    "    #g.add((URIRef(loc+urllib.parse.quote(row['Address'])), URIRef(schema+'name'), Literal(row['Address'], datatype=XSD.string) ))\n",
    "#    for x in row[ai_method]:\n",
    "#        if x in regression :\n",
    "#            g.add((URIRef(pmid+str(row['PMID'])), URIRef(title+'regression'), Literal(x))) \n",
    "#        elif x in instance_based :\n",
    "#            g.add((URIRef(pmid-str(row['PMID'])), URIRef(title+'instance_based'), Literal(x)))\n",
    "#        elif x in regularization :\n",
    "#            g.add((URIRef(pmid-str(row['PMID'])), URIRef(title+'instance_based'), Literal(x)))\n",
    "#        elif x in decision_tree:\n",
    "#            g.add((URIRef(pmid-str(row['PMID'])), URIRef(title+'instance_based'), Literal(x)))\n",
    "#        elif x in bayesian:\n",
    "#            g.add((URIRef(pmid-str(row['PMID'])), URIRef(title+'instance_based'), Literal(x)))\n",
    "#        elif x in clustering:\n",
    "#            g.add((URIRef(pmid-str(row['PMID'])), URIRef(title+'instance_based'), Literal(x)))\n",
    "#        elif x in association_rule:\n",
    "#            g.add((URIRef(pmid-str(row['PMID'])), URIRef(title+'instance_based'), Literal(x)))\n",
    "#        elif x in ann:\n",
    "#            g.add((URIRef(pmid-str(row['PMID'])), URIRef(title+'instance_based'), Literal(x)))\n",
    "#        elif x in deep_learning:\n",
    "#            g.add((URIRef(pmid-str(row['PMID'])), URIRef(title+'instance_based'), Literal(x)))\n",
    "#        elif x in dimensionality_reduction:\n",
    "#            g.add((URIRef(pmid-str(row['PMID'])), URIRef(title+'instance_based'), Literal(x)))\n",
    "#        elif x in ensemble_algorithm:\n",
    "#            g.add((URIRef(pmid-str(row['PMID'])), URIRef(title+'instance_based'), Literal(x)))\n",
    "#        else:\n",
    "#            g.add((URIRef(pmid-str(row['PMID'])), URIRef(title+'instance_based'), Literal('x')))\n",
    "\n",
    "    "
   ]
  },
  {
   "cell_type": "code",
   "execution_count": 33,
   "metadata": {},
   "outputs": [
    {
     "name": "stdout",
     "output_type": "stream",
     "text": [
      "@prefix ns1: <http://example.org/keywords_merged/> .\n",
      "@prefix ns2: <http://purl.org/dc/terms/> .\n",
      "@prefix rdfs: <http://www.w3.org/2000/01/rdf-schema#> .\n",
      "@prefix xsd: <http://www.w3.org/2001/XMLSchema#> .\n",
      "\n",
      "<http://example.org/PMID/25291742> a 25291742 ;\n",
      "    ns1:key_merged \"  \"^^xsd:string,\n",
      "        \"  Algorithms\"^^xsd:string,\n",
      "        \"  Artificial Intelligence*\"^^xsd:string,\n",
      "        \"  Computer Simulation\"^^xsd:string,\n",
      "        \"  Humans\"^^xsd:string,\n",
      "        \"  Neural Networks, Computer*\"^^xsd:string,\n",
      "        \"  Nonlinear Dynamics*\"^^xsd:string,\n",
      "        \"  Reinforcement, Psychology*\"^^xsd:string ;\n",
      "    ns2:abstract \" In adaptive dynamic programming, neurocontrol, and reinforcement learning, the objective is for an agent to learn to choose actions so as to minimize a total cost function. In this paper, we show that when discretized time is used to model the motion of the agent, it can be very important to do clipping on the motion of the agent in the final time step of the trajectory. By clipping, we mean that the final time step of the trajectory is to be truncated such that the agent stops exactly at the first terminal state reached, and no distance further. We demonstrate that when clipping is omitted, learning performance can fail to reach the optimum, and when clipping is done properly, learning performance can improve significantly. The clipping problem we describe affects algorithms that use explicit derivatives of the model functions of the environment to calculate a learning gradient. These include backpropagation through time for control and methods based on dual heuristic programming. However, the clipping problem does not significantly affect methods based on heuristic dynamic programming, temporal differences learning, or policy-gradient learning algorithms. \"^^xsd:string ;\n",
      "    ns2:creator \" Danil Prokhorov\"^^xsd:string,\n",
      "        \" Eduardo Alonso\"^^xsd:string,\n",
      "        \"Michael Fairbank\"^^xsd:string ;\n",
      "    ns2:identifier 25291742 ;\n",
      "    ns2:publisher \"IEEE Trans Neural Netw Learn Syst\"^^xsd:string ;\n",
      "    rdfs:comment \"['https://dx.doi.org/10.1109/TNNLS.2014.2297991']\"^^xsd:string ;\n",
      "    rdfs:seeAlso \"['https://dx.doi.org/10.1109/TNNLS.2014.2297991']\"^^xsd:string .\n",
      "\n",
      "<http://example.org/doi/25291742> ns2:identifier \"10.1109/TNNLS.2014.2297991\"^^xsd:integer .\n",
      "\n",
      "\n"
     ]
    }
   ],
   "source": [
    "print(g.serialize(format='turtle').decode('UTF-8'))"
   ]
  },
  {
   "cell_type": "code",
   "execution_count": 34,
   "metadata": {},
   "outputs": [
    {
     "name": "stdout",
     "output_type": "stream",
     "text": [
      "----------------------------------------------------------------------------------------------\n"
     ]
    }
   ],
   "source": [
    "q = \"select ?title ?abstract where {?title ?abstract <http://example.org/PMID/24694170>}\"\n",
    "x = g.query(q)\n",
    "t = list(x)\n",
    "print(\"----------------------------------------------------------------------------------------------\")\n",
    "for y in range(0,len(t)):\n",
    "    ss=t[y][0]\n",
    "    #search for id\n",
    "    q = \"select ?relation ?part  where {<\"+ss+\"> ?relation ?part}\"\n",
    "    xx = g.query(q)\n",
    "    print(xx)"
   ]
  },
  {
   "cell_type": "code",
   "execution_count": 35,
   "metadata": {},
   "outputs": [
    {
     "name": "stdout",
     "output_type": "stream",
     "text": [
      "0\n"
     ]
    }
   ],
   "source": [
    "# <id, attribute, value>\n",
    "#search PMID in the searh bar, and return the data with this PMID, and show its attribute and value, for example below PMID=31946810，and have 12 attributes and values\n",
    "#<a,?,?>\n",
    "q = \"select ?attribute ?value where {<http://example.org/PMID/31946810>?attribute ?value}\"\n",
    "x = g.query(q)\n",
    "t = list(x)\n",
    "print(len(t))  \n",
    "  \n",
    "for i in t:\n",
    "    print(i)\n",
    "    print(\"----------------------------------------------------------------------------------------------\")"
   ]
  },
  {
   "cell_type": "code",
   "execution_count": 36,
   "metadata": {},
   "outputs": [
    {
     "name": "stdout",
     "output_type": "stream",
     "text": [
      "0\n"
     ]
    }
   ],
   "source": [
    "# <id, attribute, value>\n",
    "#search relationship/attribute title in the searh bar, you can change the other attribute\n",
    "#we can see all the dataset is 79 data which have title\n",
    "# <?,b,?>\n",
    "q = \"select ?id ?value where {?id <http://example.org/title/title> ?value}\"  \n",
    "x = g.query(q)\n",
    "t = list(x)\n",
    "print(len(t))\n",
    "\n",
    "for i in t:\n",
    "    print(i)\n",
    "    print(\"----------------------------------------------------------------------------------------------\")"
   ]
  },
  {
   "cell_type": "code",
   "execution_count": 37,
   "metadata": {},
   "outputs": [
    {
     "name": "stdout",
     "output_type": "stream",
     "text": [
      "0\n"
     ]
    },
    {
     "ename": "IndexError",
     "evalue": "list index out of range",
     "output_type": "error",
     "traceback": [
      "\u001b[0;31m---------------------------------------------------------------------------\u001b[0m",
      "\u001b[0;31mIndexError\u001b[0m                                Traceback (most recent call last)",
      "\u001b[0;32m<ipython-input-37-1159c3d3b80d>\u001b[0m in \u001b[0;36m<module>\u001b[0;34m\u001b[0m\n\u001b[1;32m      6\u001b[0m \u001b[0mt\u001b[0m \u001b[0;34m=\u001b[0m \u001b[0mlist\u001b[0m\u001b[0;34m(\u001b[0m\u001b[0mx\u001b[0m\u001b[0;34m)\u001b[0m\u001b[0;34m\u001b[0m\u001b[0;34m\u001b[0m\u001b[0m\n\u001b[1;32m      7\u001b[0m \u001b[0mprint\u001b[0m\u001b[0;34m(\u001b[0m\u001b[0mlen\u001b[0m\u001b[0;34m(\u001b[0m\u001b[0mt\u001b[0m\u001b[0;34m)\u001b[0m\u001b[0;34m)\u001b[0m   \u001b[0;31m# only one data match this title value\u001b[0m\u001b[0;34m\u001b[0m\u001b[0;34m\u001b[0m\u001b[0m\n\u001b[0;32m----> 8\u001b[0;31m \u001b[0mprint\u001b[0m\u001b[0;34m(\u001b[0m\u001b[0mt\u001b[0m\u001b[0;34m[\u001b[0m\u001b[0;36m0\u001b[0m\u001b[0;34m]\u001b[0m\u001b[0;34m)\u001b[0m\u001b[0;34m\u001b[0m\u001b[0;34m\u001b[0m\u001b[0m\n\u001b[0m\u001b[1;32m      9\u001b[0m \u001b[0;34m\u001b[0m\u001b[0m\n\u001b[1;32m     10\u001b[0m \u001b[0;32mfor\u001b[0m \u001b[0mi\u001b[0m \u001b[0;32min\u001b[0m \u001b[0mrange\u001b[0m\u001b[0;34m(\u001b[0m\u001b[0;36m0\u001b[0m\u001b[0;34m,\u001b[0m\u001b[0mlen\u001b[0m\u001b[0;34m(\u001b[0m\u001b[0mt\u001b[0m\u001b[0;34m)\u001b[0m\u001b[0;34m)\u001b[0m\u001b[0;34m:\u001b[0m\u001b[0;34m\u001b[0m\u001b[0;34m\u001b[0m\u001b[0m\n",
      "\u001b[0;31mIndexError\u001b[0m: list index out of range"
     ]
    }
   ],
   "source": [
    "# search value of title in the search bar, for example, search title value is 29993442, but can only do the exactly search\n",
    "# <id, attribute, value>\n",
    "# <?,?,c>\n",
    "q = \"select * where {?id <http://example.org/title/title> 29993442 }\"  \n",
    "x = g.query(q)\n",
    "t = list(x)\n",
    "print(len(t))   # only one data match this title value\n",
    "print(t[0])\n",
    "\n",
    "for i in range(0,len(t)):\n",
    "    value = str(t[i]).replace(\"(rdflib.term.URIRef('\",\"\").replace(\"'),)\",\"\")  #extract the PMID URI, and then from PMID get all the data\n",
    "    print(value)\n",
    "    q = \"select * where {<\"+ value +\"> ?attribute ?value}\"  \n",
    "    x = g.query(q)\n",
    "    b = list(x)\n",
    "    if (len(b) > 0) :\n",
    "        for y in range(0,len(b)):\n",
    "            print(str(b[y]))\n",
    "            print(\"new attibute-------------------------------------------------------------\")\n",
    "        print(\"\\n\")\n",
    "        print(\"new data-------------------------------------------\")"
   ]
  },
  {
   "cell_type": "code",
   "execution_count": 38,
   "metadata": {},
   "outputs": [
    {
     "name": "stdout",
     "output_type": "stream",
     "text": [
      "Requirement already satisfied: sparqlwrapper in /Users/maida/.conda/envs/py38/lib/python3.8/site-packages (1.8.5)\n",
      "Requirement already satisfied: rdflib>=4.0 in /Users/maida/.conda/envs/py38/lib/python3.8/site-packages (from sparqlwrapper) (5.0.0)\n",
      "Requirement already satisfied: pyparsing in /Users/maida/.conda/envs/py38/lib/python3.8/site-packages (from rdflib>=4.0->sparqlwrapper) (2.4.6)\n",
      "Requirement already satisfied: isodate in /Users/maida/.conda/envs/py38/lib/python3.8/site-packages (from rdflib>=4.0->sparqlwrapper) (0.6.0)\n",
      "Requirement already satisfied: six in /Users/maida/.conda/envs/py38/lib/python3.8/site-packages (from rdflib>=4.0->sparqlwrapper) (1.14.0)\n",
      "Note: you may need to restart the kernel to use updated packages.\n"
     ]
    }
   ],
   "source": [
    "pip install sparqlwrapper"
   ]
  },
  {
   "cell_type": "code",
   "execution_count": 39,
   "metadata": {},
   "outputs": [],
   "source": [
    "from SPARQLWrapper import SPARQLWrapper\n",
    "# maybe something can use in this package, but I don't use this below "
   ]
  },
  {
   "cell_type": "code",
   "execution_count": 40,
   "metadata": {},
   "outputs": [],
   "source": [
    "# Above we can only do the exactly search, which can only get all the matched data with the exact vaule we know\n",
    "#but we can not do the fuzzy query, and below try the fuzzy query\n",
    "#when search 31 in the search bar, what will happen?\n",
    "# <id, attribute, value>\n",
    "q = \"select ?id where {?id ?attribute ?value filter regex(?value, '31')}\"\n",
    "x = g.query(q)\n",
    "t = list(x)\n",
    "for i in range(0,len(t)):\n",
    "    value = str(t[i]).replace(\"(rdflib.term.URIRef('\",\"\").replace(\"'),)\",\"\")\n",
    "    q = \"select * where {<\"+ value +\"> ?attribute ?value}\"          # also get the PMID first and then get all the matched data\n",
    "    x = g.query(q)\n",
    "    b = list(x)\n",
    "    if (len(b) > 0) :\n",
    "        for y in range(0,len(b)):\n",
    "            print(str(b[y]))\n",
    "            print(\"new attibute-------------------------------------------------------------\")\n",
    "        print(\"\\n\")\n",
    "        print(\"new data-------------------------------------------\")\n",
    "\n",
    "#we can see that as long as \"31\" appeare in the value, no matter what attibute, it will match.\n",
    "#but when I want to search for the exact attibute 'title' which may have something like \"**31**\", I failed, I can only do with all attibutes."
   ]
  },
  {
   "cell_type": "code",
   "execution_count": 41,
   "metadata": {},
   "outputs": [],
   "source": [
    "# and maybe you can change the title to other attibutes and also try the fuzzy query."
   ]
  },
  {
   "cell_type": "code",
   "execution_count": null,
   "metadata": {},
   "outputs": [],
   "source": []
  }
 ],
 "metadata": {
  "kernelspec": {
   "display_name": "Python 3",
   "language": "python",
   "name": "python3"
  },
  "language_info": {
   "codemirror_mode": {
    "name": "ipython",
    "version": 3
   },
   "file_extension": ".py",
   "mimetype": "text/x-python",
   "name": "python",
   "nbconvert_exporter": "python",
   "pygments_lexer": "ipython3",
   "version": "3.8.2"
  }
 },
 "nbformat": 4,
 "nbformat_minor": 4
}
