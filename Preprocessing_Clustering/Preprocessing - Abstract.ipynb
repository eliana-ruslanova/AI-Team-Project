{
 "cells": [
  {
   "cell_type": "code",
   "execution_count": 22,
   "metadata": {},
   "outputs": [],
   "source": [
    "# You have to install this libs only once by running this cell without #\n",
    "\n",
    "#!pip install nltk\n",
    "#!pip install gensim"
   ]
  },
  {
   "cell_type": "markdown",
   "metadata": {},
   "source": [
    "Import one specific JSON"
   ]
  },
  {
   "cell_type": "code",
   "execution_count": 2,
   "metadata": {},
   "outputs": [],
   "source": [
    "import json\n",
    "\n",
    "with open('C:\\\\Users\\\\Admin\\\\Documents\\\\Teamprojekt- Ai knowlage base\\\\Project_git\\\\Extraction\\\\data\\\\https%3A%2F%2Fapi.elsevier.com%2Fcontent%2Farticle%2Fdoi%2F10.1016%2FS0933-3657%2801%2900089-6.json') as json_file:\n",
    "    data = json.load(json_file)\n",
    "    description = data[\"coredata\"][\"dc:description\"]\n",
    "    "
   ]
  },
  {
   "cell_type": "markdown",
   "metadata": {},
   "source": [
    "Method to import all JSONs of a Directory. Option to load only the abstract"
   ]
  },
  {
   "cell_type": "code",
   "execution_count": 3,
   "metadata": {},
   "outputs": [],
   "source": [
    "from pathlib import Path\n",
    "\n",
    "def openJSONFiles(fileString, onlyAbstract=False):\n",
    "    jsonReturn = []\n",
    "    path = Path(fileString)\n",
    "    for path in path.iterdir():\n",
    "        if path.is_file():\n",
    "            with open(path) as json_file:\n",
    "                if onlyAbstract:\n",
    "                    jsonReturn.append(json.load(json_file)[\"coredata\"][\"dc:description\"])\n",
    "                else:\n",
    "                    jsonReturn.append(json.load(json_file))\n",
    "    return jsonReturn"
   ]
  },
  {
   "cell_type": "markdown",
   "metadata": {},
   "source": [
    "Exmaple"
   ]
  },
  {
   "cell_type": "code",
   "execution_count": 4,
   "metadata": {},
   "outputs": [],
   "source": [
    "jsons = openJSONFiles('C:\\\\Users\\\\Admin\\\\Documents\\\\Teamprojekt- Ai knowlage base\\\\Project_git\\\\Extraction\\\\data', True)"
   ]
  },
  {
   "cell_type": "code",
   "execution_count": 112,
   "metadata": {},
   "outputs": [
    {
     "data": {
      "text/plain": [
       "{'coredata': {'prism:url': 'https://api.elsevier.com/content/article/pii/S074906902030029X',\n",
       "  'dc:identifier': 'doi:10.1016/j.cger.2020.04.009',\n",
       "  'eid': '1-s2.0-S074906902030029X',\n",
       "  'prism:doi': '10.1016/j.cger.2020.04.009',\n",
       "  'pii': 'S0749-0690(20)30029-X',\n",
       "  'dc:title': 'Artificial Intelligence and Digital Tools: Future of Diabetes Care ',\n",
       "  'prism:publicationName': 'Clinics in Geriatric Medicine',\n",
       "  'prism:aggregationType': 'Journal',\n",
       "  'prism:issn': '07490690',\n",
       "  'dc:format': 'application/json',\n",
       "  'prism:coverDate': '2020-04-17',\n",
       "  'prism:coverDisplayDate': 'Available online 17 April 2020',\n",
       "  'prism:copyright': '© 2020 Published by Elsevier Inc.',\n",
       "  'prism:publisher': 'Published by Elsevier Inc.',\n",
       "  'dc:creator': [{'@_fa': 'true', '$': 'Sriram, Ram D.'},\n",
       "   {'@_fa': 'true', '$': 'Reddy, S. Sethu K.'}],\n",
       "  'dc:description': None,\n",
       "  'openaccess': '0',\n",
       "  'openaccessArticle': False,\n",
       "  'openaccessType': None,\n",
       "  'openArchiveArticle': False,\n",
       "  'openaccessSponsorName': None,\n",
       "  'openaccessSponsorType': None,\n",
       "  'openaccessUserLicense': None,\n",
       "  'dcterms:subject': [{'@_fa': 'true', '$': 'Artificial intelligence'},\n",
       "   {'@_fa': 'true', '$': 'Diabetes Mellitus'},\n",
       "   {'@_fa': 'true', '$': 'Natural Language Processing'},\n",
       "   {'@_fa': 'true', '$': 'Knowledge Based Expert Systems'},\n",
       "   {'@_fa': 'true', '$': 'Neural Networks'},\n",
       "   {'@_fa': 'true', '$': 'P7 Medicine'}],\n",
       "  'link': [{'@href': 'https://api.elsevier.com/content/article/pii/S074906902030029X',\n",
       "    '@rel': 'self',\n",
       "    '@_fa': 'true'},\n",
       "   {'@href': 'https://www.sciencedirect.com/science/article/pii/S074906902030029X?v=s5',\n",
       "    '@rel': 'scidir',\n",
       "    '@_fa': 'true'}]},\n",
       " 'originalText': {'xocs:doc': {'xocs:meta': {'xocs:open-access': {'xocs:oa-article-status': {'@is-open-access': '0',\n",
       "      '@is-open-archive': '0'}},\n",
       "    'xocs:available-online-date': {'@yyyymmdd': '20200417',\n",
       "     '$': '2020-04-17'}}}}}"
      ]
     },
     "execution_count": 112,
     "metadata": {},
     "output_type": "execute_result"
    }
   ],
   "source": [
    "jsons[9]"
   ]
  },
  {
   "cell_type": "code",
   "execution_count": 44,
   "metadata": {},
   "outputs": [],
   "source": [
    "# import nltk\n",
    "# from nltk.tokenize import TweetTokenizer\n",
    "\n",
    "# tokenizer = TweetTokenizer()\n",
    "# Tok_Desc = tokenizer.tokenize(description)\n",
    "\n",
    "\n",
    "# print(Tok_Desc)"
   ]
  },
  {
   "cell_type": "markdown",
   "metadata": {},
   "source": [
    "Methods for tokenization, removment of stopwords and stemming"
   ]
  },
  {
   "cell_type": "code",
   "execution_count": 5,
   "metadata": {},
   "outputs": [
    {
     "name": "stderr",
     "output_type": "stream",
     "text": [
      "[nltk_data] Downloading package stopwords to\n",
      "[nltk_data]     C:\\Users\\Admin\\AppData\\Roaming\\nltk_data...\n",
      "[nltk_data]   Package stopwords is already up-to-date!\n",
      "[nltk_data] Downloading package averaged_perceptron_tagger to\n",
      "[nltk_data]     C:\\Users\\Admin\\AppData\\Roaming\\nltk_data...\n",
      "[nltk_data]   Package averaged_perceptron_tagger is already up-to-\n",
      "[nltk_data]       date!\n"
     ]
    }
   ],
   "source": [
    "import nltk\n",
    "from nltk.tokenize import word_tokenize\n",
    "from nltk.stem.porter import PorterStemmer\n",
    "from nltk.corpus import stopwords\n",
    "nltk.download('stopwords')\n",
    "import re, string\n",
    "nltk.download('averaged_perceptron_tagger')\n",
    "from nltk.corpus import wordnet as wn\n",
    "from nltk.stem.wordnet import WordNetLemmatizer\n",
    "from nltk import pos_tag\n",
    "from collections import defaultdict\n",
    "from collections.abc import Iterable\n",
    "from nltk import ngrams\n",
    "\n",
    "\n",
    "def tokenize(text, sentenceSeperate=False, includePunctation= False):\n",
    "    data = [] \n",
    "    #intern functions\n",
    "    def withPunctation(text):\n",
    "        temp = [] \n",
    "         # tokenize the sentence into words \n",
    "        for j in word_tokenize(text): \n",
    "            temp.append(j)\n",
    "        return temp\n",
    "    def withoutPunctation(text):\n",
    "        token_pattern = re.compile(r\"(?u)\\b\\w\\w+\\b\") # split on whitespace (and remove punctation)\n",
    "        return token_pattern.findall(text)\n",
    "    \n",
    "    text = text.lower()\n",
    "    if sentenceSeperate:\n",
    "        # iterate through each sentence in the file \n",
    "        for sentence in sent_tokenize(text): \n",
    "            if includePunctation:\n",
    "                data.append(withPunctation(sentence))\n",
    "            else:\n",
    "                data.append(withoutPunctation(sentence))\n",
    "    else:\n",
    "        if includePunctation:\n",
    "            data = withPunctation(text)\n",
    "        else:\n",
    "            data = withoutPunctation(text)\n",
    "    \n",
    "    return data\n",
    "     \n",
    "\n",
    "def removeStopwords(wordArray):\n",
    "    \n",
    "    my_stopwords = set(stopwords.words('english'))\n",
    "    withoutStopwords = []\n",
    "    \n",
    "    #test if its a list of words or a list of sentences with words\n",
    "    if isinstance(wordArray[0], Iterable)and not isinstance(wordArray[0], str):\n",
    "        for sentence in wordArray:\n",
    "            withoutStopwords.append(removeStopwords(sentence))\n",
    "            \n",
    "    else:        \n",
    "        for item in wordArray:\n",
    "            if item not in my_stopwords:\n",
    "                withoutStopwords.append(item)\n",
    "    return withoutStopwords\n",
    "\n",
    "def applyStemming(wordArray):\n",
    "    stemmer = PorterStemmer()\n",
    "    stems = []\n",
    "    \n",
    "    #test if its a list of words or a list of sentences with words\n",
    "    if isinstance(wordArray[0], Iterable)and not isinstance(wordArray[0], str):\n",
    "        for sentence in wordArray:\n",
    "            stems.append(applyStemming(sentence))\n",
    "    else:       \n",
    "        for item in wordArray:\n",
    "            stems.append(stemmer.stem(item))\n",
    "    return stems\n",
    "\n",
    "\n",
    "def applyLemmatizing(wordArray):\n",
    "    tag_map = defaultdict(lambda : wn.NOUN)\n",
    "    tag_map['J'] = wn.ADJ\n",
    "    tag_map['V'] = wn.VERB\n",
    "    tag_map['R'] = wn.ADV   \n",
    "    \n",
    "    #intern function\n",
    "    def lemmazizeText(text):\n",
    "        temp = []\n",
    "        for token, tag in pos_tag(text):\n",
    "            temp.append(lemma_function.lemmatize(token, tag_map[tag[0]]))\n",
    "        return temp\n",
    "\n",
    "            \n",
    "    lemma_function = WordNetLemmatizer()\n",
    "    baseWords = []\n",
    "    if isinstance(wordArray[0], Iterable)and not isinstance(wordArray[0], str):\n",
    "        for sentence in wordArray:\n",
    "            baseWords.append(lemmazizeText(sentence))\n",
    "    else:\n",
    "        baseWords =lemmazizeText(wordArray)\n",
    "     \n",
    "    return baseWords\n",
    "\n",
    "def addNGram(wordArray, NGramLength=2):\n",
    "    holetext= wordArray\n",
    "    temp = []\n",
    "    if len(wordArray)>0 and isinstance(wordArray[0], Iterable)and not isinstance(wordArray[0], str):\n",
    "        print(\"drin\")\n",
    "        for sentence in wordArray:\n",
    "            temp.append(' '.join(sentence))\n",
    "        holetext = (' '.join(temp)).split()\n",
    "    nGrams = list(ngrams(holetext, NGramLength))\n",
    "    \n",
    "    # make nGram from two words to one \n",
    "    nGramsFull = pd.Series(nGrams).apply(lambda row: ' '.join(row))\n",
    "    wordArrayCopy = wordArray.copy()\n",
    "    wordArrayCopy.extend(nGramsFull)\n",
    "    return (wordArrayCopy)"
   ]
  },
  {
   "cell_type": "code",
   "execution_count": 5,
   "metadata": {},
   "outputs": [
    {
     "data": {
      "text/plain": [
       "str"
      ]
     },
     "execution_count": 5,
     "metadata": {},
     "output_type": "execute_result"
    }
   ],
   "source": [
    "type(description)"
   ]
  },
  {
   "cell_type": "markdown",
   "metadata": {},
   "source": [
    "Example"
   ]
  },
  {
   "cell_type": "code",
   "execution_count": 89,
   "metadata": {},
   "outputs": [],
   "source": [
    "# firstTime = time.time()\n",
    "# print(\"Original Text:\\n\",description)\n",
    "\n",
    "# description_P1 = tokenize(description)\n",
    "# print(\"\\nAfter Tokenization:\\n\",description_P1)\n",
    "\n",
    "# description_P2 = removeStopwords(description_P1)\n",
    "# print(\"\\nAfter Stopword removal:\\n\",description_P2)\n",
    "\n",
    "# description_P3 = applyStemming(description_P2)\n",
    "# print(\"\\nAfter Stemming:\\n\",description_P3)\n",
    "\n",
    "# description_P3_1 = applyLemmatizing(description_P2)\n",
    "# print(\"\\nAfter Lemmatization (with previous stopword removal\\n\",description_P3_1)\n",
    "\n",
    "# description_P3_2 = removeStopwords(applyLemmatizing(description_P1))\n",
    "# print(\"\\nAfter Lemmatization (with subsequent stopword removal\\n\",description_P3_2)\n",
    "\n",
    "# description_P4 = addNGram(description_P3_2)\n",
    "# print(\"\\nAfter adding NGrams\\n\",description_P4)\n",
    "# print (\"--- %s seconds ---\" % round(time.time()-firstTime,4))"
   ]
  },
  {
   "cell_type": "code",
   "execution_count": 6,
   "metadata": {},
   "outputs": [
    {
     "name": "stdout",
     "output_type": "stream",
     "text": [
      "52  out of  76  abstracts cound be found and are converted\n"
     ]
    }
   ],
   "source": [
    "firstTime = time.time()\n",
    "abstractsPro = []\n",
    "abstractsUsed = []\n",
    "i=0\n",
    "for abstract in jsons:\n",
    "    if abstract is not None:\n",
    "        abstractsPro.append(applyLemmatizing(removeStopwords(tokenize(abstract))))\n",
    "        abstractsUsed.append(abstract)\n",
    "        i= i+1\n",
    "print(i,\" out of \",len(jsons),\" abstracts cound be found and are converted\")\n",
    "print (\"--- %s seconds ---\" % round(time.time()-firstTime,4))"
   ]
  },
  {
   "cell_type": "code",
   "execution_count": 72,
   "metadata": {},
   "outputs": [],
   "source": [
    "# # Python program to generate word vectors using Word2Vec \n",
    "\n",
    "# # importing all necessary modules \n",
    "# from nltk.tokenize import sent_tokenize, word_tokenize \n",
    "# import warnings \n",
    "\n",
    "# warnings.filterwarnings(action = 'ignore') \n",
    "\n",
    "# import gensim \n",
    "# from gensim.models import Word2Vec \n",
    "\n",
    "\n",
    "# data = tokenize(description, True,True)\n",
    "\n",
    "\n",
    "# # Create CBOW model \n",
    "# model1 = gensim.models.Word2Vec(data, min_count = 1, \n",
    "#                             size = 100, window = 5) \n",
    "\n",
    "# # Print results \n",
    "# print(\"Cosine similarity between 'alice' \" +\n",
    "#             \"and 'wonderland' - CBOW : \", \n",
    "#     model1.similarity('alice', 'wonderland')) \n",
    "\n",
    "# print(\"Cosine similarity between 'alice' \" +\n",
    "#                 \"and 'machines' - CBOW : \", \n",
    "#     model1.similarity('alice', 'machines')) \n",
    "\n",
    "# # Create Skip Gram model \n",
    "# model2 = gensim.models.Word2Vec(data, min_count = 1, size = 100, \n",
    "#                                             window = 5, sg = 1) \n",
    "\n",
    "# # Print results \n",
    "# print(\"Cosine similarity between 'alice' \" +\n",
    "#         \"and 'wonderland' - Skip Gram : \", \n",
    "#     model2.similarity('alice', 'wonderland')) \n",
    "\n",
    "# print(\"Cosine similarity between 'alice' \" +\n",
    "#             \"and 'machines' - Skip Gram : \", \n",
    "#     model2.similarity('alice', 'machines')) \n"
   ]
  },
  {
   "cell_type": "markdown",
   "metadata": {},
   "source": [
    "# doc2vec"
   ]
  },
  {
   "cell_type": "code",
   "execution_count": 10,
   "metadata": {},
   "outputs": [
    {
     "name": "stderr",
     "output_type": "stream",
     "text": [
      "unable to import 'smart_open.gcs', disabling that module\n"
     ]
    }
   ],
   "source": [
    "from gensim.test.utils import common_texts\n",
    "from gensim.models.doc2vec import Doc2Vec, TaggedDocument\n",
    "from gensim.test.utils import get_tmpfile\n",
    "\n",
    "firstTime = time.time()\n",
    "documents = [TaggedDocument(doc, [i]) for i, doc in enumerate(abstractsPro)]\n",
    "model = Doc2Vec(documents, vector_size=5, window=2, min_count=1, workers=4)\n",
    "\n",
    "\n",
    "# Save file and load it again\n",
    "fname = get_tmpfile(\"my_doc2vec_model\")\n",
    "\n",
    "model.save(fname)\n",
    "model = Doc2Vec.load(fname)  # you can continue training with the loaded model!\n",
    "#delete traingmode (save memmory)\n",
    "model.delete_temporary_training_data(keep_doctags_vectors=True, keep_inference=True)\n",
    "print (\"--- %s seconds ---\" % round(time.time()-firstTime,4))"
   ]
  },
  {
   "cell_type": "code",
   "execution_count": 139,
   "metadata": {},
   "outputs": [],
   "source": [
    "#vector = model.infer_vector([\"system\", \"und jetzt\"]) \n",
    "#model.docvecs.most_similar(5)"
   ]
  },
  {
   "cell_type": "code",
   "execution_count": 177,
   "metadata": {},
   "outputs": [],
   "source": [
    "firstTime = time.time()\n",
    "vectors = []\n",
    "for x,y in documents:\n",
    "    vectors.append(model.docvecs[y[0]]) \n",
    "print (\"--- %s seconds ---\" % round(time.time()-firstTime,4))"
   ]
  },
  {
   "cell_type": "code",
   "execution_count": 183,
   "metadata": {},
   "outputs": [],
   "source": [
    "from sklearn.manifold import TSNE\n",
    "import pandas as pd\n",
    "\n",
    "tsne = TSNE(n_components=2, random_state=30)\n",
    "\n",
    "matrix_2D = tsne.fit_transform(vectors)\n",
    "points = pd.DataFrame(matrix_2D,columns=[\"x\",\"y\"])\n",
    "points[\"word\"]= range(52)"
   ]
  },
  {
   "cell_type": "code",
   "execution_count": 203,
   "metadata": {},
   "outputs": [
    {
     "data": {
      "text/plain": [
       "<matplotlib.axes._subplots.AxesSubplot at 0x1c6d9b94a88>"
      ]
     },
     "execution_count": 203,
     "metadata": {},
     "output_type": "execute_result"
    },
    {
     "data": {
      "image/png": "[encoded data removed]",
      "text/plain": [
       "<Figure size 1440x864 with 1 Axes>"
      ]
     },
     "metadata": {
      "needs_background": "light"
     },
     "output_type": "display_data"
    }
   ],
   "source": [
    "points.plot.scatter(\"x\",\"y\",s=10, figsize= (20,12))"
   ]
  },
  {
   "cell_type": "markdown",
   "metadata": {},
   "source": [
    "# Bag of words"
   ]
  },
  {
   "cell_type": "markdown",
   "metadata": {},
   "source": [
    "Function for calling bag of words"
   ]
  },
  {
   "cell_type": "code",
   "execution_count": null,
   "metadata": {},
   "outputs": [],
   "source": [
    "from sklearn.feature_extraction.text import TfidfVectorizer\n",
    "#Term Frequency (TF) and TF-IDF \n",
    "#useInverse = True = TF-IDF else TF\n",
    "\n",
    "def bagOfWords(docs, useInverse,preProcessFunc,min_df=0.1, max_df=0.3): #procentual or absolute is a valide input\n",
    "    if not useInverse:\n",
    "        vectorizer = TfidfVectorizer(use_idf=False, norm='l1',tokenizer = preProcessFunc,min_df=min_df, max_df=max_df)\n",
    "    else:\n",
    "        vectorizer = TfidfVectorizer(tokenizer = preProcessFunc,min_df=min_df, max_df=max_df)\n",
    "    matrix = vectorizer.fit_transform(docs)\n",
    "    return pd.DataFrame(matrix.toarray(), columns=vectorizer.get_feature_names())"
   ]
  },
  {
   "cell_type": "code",
   "execution_count": null,
   "metadata": {},
   "outputs": [],
   "source": [
    "def sumPreprocessBoW(text):\n",
    "    return applyLemmatizing(removeStopwords(tokenize(text)))\n",
    "\n",
    "firstTime = time.time()\n",
    "vectorsBoW = bagOfWords(cutHotelData, True, sumPreprocessBoW)\n",
    "print (\"--- %s seconds ---\" % round(time.time()-firstTime,4))"
   ]
  },
  {
   "cell_type": "code",
   "execution_count": null,
   "metadata": {},
   "outputs": [],
   "source": [
    "vectorsBoW"
   ]
  }
 ],
 "metadata": {
  "kernelspec": {
   "display_name": "Python 3",
   "language": "python",
   "name": "python3"
  },
  "language_info": {
   "codemirror_mode": {
    "name": "ipython",
    "version": 3
   },
   "file_extension": ".py",
   "mimetype": "text/x-python",
   "name": "python",
   "nbconvert_exporter": "python",
   "pygments_lexer": "ipython3",
   "version": "3.7.4"
  }
 },
 "nbformat": 4,
 "nbformat_minor": 2
}
