{
 "cells": [
  {
   "cell_type": "code",
   "execution_count": 22,
   "metadata": {},
   "outputs": [],
   "source": [
    "# You have to install this libs only once by running this cell without #\n",
    "\n",
    "#!pip install nltk\n",
    "#!pip install gensim"
   ]
  },
  {
   "cell_type": "markdown",
   "metadata": {},
   "source": [
    "Import one specific JSON"
   ]
  },
  {
   "cell_type": "code",
   "execution_count": 1,
   "metadata": {},
   "outputs": [],
   "source": [
    "import json\n",
    "\n",
    "with open('C:\\\\Users\\\\Admin\\\\Documents\\\\Teamprojekt- Ai knowlage base\\\\Project_git\\\\Extraction\\\\data\\\\https%3A%2F%2Fapi.elsevier.com%2Fcontent%2Farticle%2Fdoi%2F10.1016%2FS0933-3657%2801%2900089-6.json') as json_file:\n",
    "    data = json.load(json_file)\n",
    "    description = data[\"coredata\"][\"dc:description\"]\n",
    "    "
   ]
  },
  {
   "cell_type": "markdown",
   "metadata": {},
   "source": [
    "Method to import all JSONs of a Directory. Option to load only the abstract"
   ]
  },
  {
   "cell_type": "code",
   "execution_count": 2,
   "metadata": {},
   "outputs": [],
   "source": [
    "from pathlib import Path\n",
    "import json\n",
    "cat = []\n",
    "\n",
    "def openJSONFiles(fileString, onlyAbstract=False):\n",
    "    jsonReturn = []\n",
    "    path = Path(fileString)\n",
    "    for path in path.iterdir():\n",
    "        if path.is_file():\n",
    "            with open(path) as json_file:\n",
    "                if onlyAbstract:\n",
    "                    tempJson = json.load(json_file)\n",
    "                    jsonReturn.append(tempJson[\"coredata\"][\"dc:description\"])  \n",
    "                    # tempp !!\n",
    "                    cat.append(tempJson[\"subfield\"])\n",
    "                    #\n",
    "                else:\n",
    "                    jsonReturn.append(json.load(json_file))\n",
    "              \n",
    "    return jsonReturn"
   ]
  },
  {
   "cell_type": "markdown",
   "metadata": {},
   "source": [
    "Exmaple"
   ]
  },
  {
   "cell_type": "code",
   "execution_count": 3,
   "metadata": {},
   "outputs": [],
   "source": [
    "jsons = openJSONFiles('C:\\\\Users\\\\Admin\\\\Documents\\\\Teamprojekt- Ai knowlage base\\\\Project_git\\\\Preprocessing_Clustering\\\\manual',True)"
   ]
  },
  {
   "cell_type": "code",
   "execution_count": 13,
   "metadata": {},
   "outputs": [
    {
     "data": {
      "text/plain": [
       "['Epidemiology']"
      ]
     },
     "execution_count": 13,
     "metadata": {},
     "output_type": "execute_result"
    }
   ],
   "source": [
    "jsons[9]"
   ]
  },
  {
   "cell_type": "markdown",
   "metadata": {},
   "source": [
    "Methods for tokenization, removment of stopwords and stemming"
   ]
  },
  {
   "cell_type": "code",
   "execution_count": 78,
   "metadata": {},
   "outputs": [
    {
     "name": "stderr",
     "output_type": "stream",
     "text": [
      "[nltk_data] Downloading package stopwords to\n",
      "[nltk_data]     C:\\Users\\Admin\\AppData\\Roaming\\nltk_data...\n",
      "[nltk_data]   Package stopwords is already up-to-date!\n",
      "[nltk_data] Downloading package averaged_perceptron_tagger to\n",
      "[nltk_data]     C:\\Users\\Admin\\AppData\\Roaming\\nltk_data...\n",
      "[nltk_data]   Package averaged_perceptron_tagger is already up-to-\n",
      "[nltk_data]       date!\n"
     ]
    }
   ],
   "source": [
    "import nltk\n",
    "from nltk.tokenize import word_tokenize\n",
    "from nltk.stem.porter import PorterStemmer\n",
    "from nltk.corpus import stopwords\n",
    "nltk.download('stopwords')\n",
    "import re, string\n",
    "nltk.download('averaged_perceptron_tagger')\n",
    "from nltk.corpus import wordnet as wn\n",
    "from nltk.stem.wordnet import WordNetLemmatizer\n",
    "from nltk import pos_tag\n",
    "from collections import defaultdict\n",
    "from collections.abc import Iterable\n",
    "from nltk import ngrams\n",
    "import pandas as pd\n",
    "\n",
    "\n",
    "def tokenize(text, sentenceSeperate=False, includePunctation= False, excludeSpecPuct =[]):\n",
    "    data = [] \n",
    "    #intern functions\n",
    "    def withPunctation(text):\n",
    "        temp = [] \n",
    "        #delete unwanted punctuation\n",
    "        for delPunct in excludeSpecPuct:\n",
    "            text = text.replace(delPunct, \" \")\n",
    "        #help tokenization with replacing some untokenized punctations\n",
    "        for puct in [\"-\",\"/\",\"—\"]:\n",
    "            text = text.replace(puct, \" \"+puct+\" \")\n",
    "         # tokenize the sentence into words \n",
    "        for j in word_tokenize(text): \n",
    "            temp.append(j)\n",
    "        return temp\n",
    "    def withoutPunctation(text):\n",
    "        token_pattern = re.compile(r\"(?u)\\b\\w\\w+\\b\") # split on whitespace (and remove punctation)\n",
    "        return token_pattern.findall(text)\n",
    "    \n",
    "    text = text.lower()\n",
    "    if sentenceSeperate:\n",
    "        # iterate through each sentence in the file \n",
    "        for sentence in sent_tokenize(text): \n",
    "            if includePunctation:\n",
    "                data.append(withPunctation(sentence))\n",
    "            else:\n",
    "                data.append(withoutPunctation(sentence))\n",
    "    else:\n",
    "        if includePunctation:\n",
    "            data = withPunctation(text)\n",
    "        else:\n",
    "            data = withoutPunctation(text)\n",
    "    \n",
    "    return data\n",
    "     \n",
    "\n",
    "def removeStopwords(wordArray):\n",
    "    \n",
    "    my_stopwords = set(stopwords.words('english'))\n",
    "    withoutStopwords = []\n",
    "    \n",
    "    #test if its a list of words or a list of sentences with words\n",
    "    if isinstance(wordArray[0], Iterable)and not isinstance(wordArray[0], str):\n",
    "        for sentence in wordArray:\n",
    "            withoutStopwords.append(removeStopwords(sentence))\n",
    "            \n",
    "    else:        \n",
    "        for item in wordArray:\n",
    "            if item not in my_stopwords:\n",
    "                withoutStopwords.append(item)\n",
    "    return withoutStopwords\n",
    "\n",
    "def applyStemming(wordArray):\n",
    "    stemmer = PorterStemmer()\n",
    "    stems = []\n",
    "    \n",
    "    #test if its a list of words or a list of sentences with words\n",
    "    if isinstance(wordArray[0], Iterable)and not isinstance(wordArray[0], str):\n",
    "        for sentence in wordArray:\n",
    "            stems.append(applyStemming(sentence))\n",
    "    else:       \n",
    "        for item in wordArray:\n",
    "            stems.append(stemmer.stem(item))\n",
    "    return stems\n",
    "\n",
    "\n",
    "def applyLemmatizing(wordArray):\n",
    "    tag_map = defaultdict(lambda : wn.NOUN)\n",
    "    tag_map['J'] = wn.ADJ\n",
    "    tag_map['V'] = wn.VERB\n",
    "    tag_map['R'] = wn.ADV   \n",
    "    \n",
    "    #intern function\n",
    "    def lemmazizeText(text):\n",
    "        temp = []\n",
    "        for token, tag in pos_tag(text):\n",
    "            temp.append(lemma_function.lemmatize(token, tag_map[tag[0]]))\n",
    "        return temp\n",
    "\n",
    "            \n",
    "    lemma_function = WordNetLemmatizer()\n",
    "    baseWords = []\n",
    "    if isinstance(wordArray[0], Iterable)and not isinstance(wordArray[0], str):\n",
    "        for sentence in wordArray:\n",
    "            baseWords.append(lemmazizeText(sentence))\n",
    "    else:\n",
    "        baseWords =lemmazizeText(wordArray)\n",
    "     \n",
    "    return baseWords\n",
    "\n",
    "def addNGram(wordArray, NGramLength=2):\n",
    "    holetext= wordArray\n",
    "    temp = []\n",
    "    if len(wordArray)>0 and isinstance(wordArray[0], Iterable)and not isinstance(wordArray[0], str):\n",
    "        print(\"drin\")\n",
    "        for sentence in wordArray:\n",
    "            temp.append(' '.join(sentence))\n",
    "        holetext = (' '.join(temp)).split()\n",
    "    nGrams = list(ngrams(holetext, NGramLength))\n",
    "    \n",
    "    # make nGram from two words to one \n",
    "    nGramsFull = pd.Series(nGrams).apply(lambda row: ' '.join(row))\n",
    "    wordArrayCopy = wordArray.copy()\n",
    "    wordArrayCopy.extend(nGramsFull)\n",
    "    return (wordArrayCopy)"
   ]
  },
  {
   "cell_type": "code",
   "execution_count": 8,
   "metadata": {},
   "outputs": [
    {
     "data": {
      "text/plain": [
       "str"
      ]
     },
     "execution_count": 8,
     "metadata": {},
     "output_type": "execute_result"
    }
   ],
   "source": [
    "type(description)"
   ]
  },
  {
   "cell_type": "markdown",
   "metadata": {},
   "source": [
    "Example"
   ]
  },
  {
   "cell_type": "code",
   "execution_count": 5,
   "metadata": {},
   "outputs": [],
   "source": [
    "# import time\n",
    "# firstTime = time.time()\n",
    "# print(\"Original Text:\\n\",description)\n",
    "\n",
    "# description_P1 = tokenize(description)\n",
    "# print(\"\\nAfter Tokenization:\\n\",description_P1)\n",
    "\n",
    "# description_P2 = removeStopwords(description_P1)\n",
    "# print(\"\\nAfter Stopword removal:\\n\",description_P2)\n",
    "\n",
    "# description_P3 = applyStemming(description_P2)\n",
    "# print(\"\\nAfter Stemming:\\n\",description_P3)\n",
    "\n",
    "# description_P3_1 = applyLemmatizing(description_P2)\n",
    "# print(\"\\nAfter Lemmatization (with previous stopword removal\\n\",description_P3_1)\n",
    "\n",
    "# description_P3_2 = removeStopwords(applyLemmatizing(description_P1))\n",
    "# print(\"\\nAfter Lemmatization (with subsequent stopword removal\\n\",description_P3_2)\n",
    "\n",
    "# description_P4 = addNGram(description_P3_2)\n",
    "# print(\"\\nAfter adding NGrams\\n\",description_P4)\n",
    "# print (\"--- %s seconds ---\" % round(time.time()-firstTime,4))"
   ]
  },
  {
   "cell_type": "code",
   "execution_count": 84,
   "metadata": {},
   "outputs": [
    {
     "name": "stdout",
     "output_type": "stream",
     "text": [
      "44  out of  44  abstracts cound be found and are converted\n",
      "--- 0.1479 seconds ---\n"
     ]
    }
   ],
   "source": [
    "import time\n",
    "firstTime = time.time()\n",
    "abstractsPro = []\n",
    "abstractsUsed = []\n",
    "i=0\n",
    "for abstract in jsons:\n",
    "    if abstract is not None:\n",
    "        #abstractsPro.append(applyLemmatizing(removeStopwords(tokenize(abstract))))\n",
    "        abstractsPro.append(tokenize(abstract, includePunctation=True,excludeSpecPuct = [\"(\",\")\",\"[\",\"]\",\"{\",\"}\",'\"',\"’\", \"”\", \"“\",\"—\"]))\n",
    "        abstractsUsed.append(abstract)\n",
    "        i= i+1\n",
    "print(i,\" out of \",len(jsons),\" abstracts cound be found and are converted\")\n",
    "print (\"--- %s seconds ---\" % round(time.time()-firstTime,4))"
   ]
  },
  {
   "cell_type": "markdown",
   "metadata": {},
   "source": [
    "# doc2vec"
   ]
  },
  {
   "cell_type": "markdown",
   "metadata": {},
   "source": [
    "create wordlist of all inputs togehter"
   ]
  },
  {
   "cell_type": "code",
   "execution_count": 49,
   "metadata": {},
   "outputs": [
    {
     "name": "stderr",
     "output_type": "stream",
     "text": [
      "C:\\Users\\Admin\\Anaconda3\\lib\\site-packages\\tqdm\\std.py:648: FutureWarning: The Panel class is removed from pandas. Accessing it from the top-level namespace will also be removed in the next version\n",
      "  from pandas import Panel\n"
     ]
    }
   ],
   "source": [
    "# Source: https://www.kaggle.com/christofhenkel/how-to-preprocessing-when-using-embeddings/comments\n",
    "from tqdm import tqdm\n",
    "tqdm.pandas()\n",
    "\n",
    "def build_vocab(sentences, verbose =  True):\n",
    "    \"\"\"\n",
    "    :param sentences: list of list of words\n",
    "    :return: dictionary of words and their count\n",
    "    \"\"\"\n",
    "    vocab = {}\n",
    "    for sentence in tqdm(sentences, disable = (not verbose)):\n",
    "        for word in sentence:\n",
    "            try:\n",
    "                vocab[word] += 1\n",
    "            except KeyError:\n",
    "                vocab[word] = 1\n",
    "    return vocab"
   ]
  },
  {
   "cell_type": "code",
   "execution_count": 85,
   "metadata": {},
   "outputs": [
    {
     "name": "stderr",
     "output_type": "stream",
     "text": [
      "100%|████████████████████████████████████████████████████████████████████████████████| 44/44 [00:00<00:00, 8806.10it/s]\n"
     ]
    }
   ],
   "source": [
    "vocab = build_vocab(abstractsPro)"
   ]
  },
  {
   "cell_type": "markdown",
   "metadata": {},
   "source": [
    "Load the model and the keyedVector"
   ]
  },
  {
   "cell_type": "code",
   "execution_count": 11,
   "metadata": {},
   "outputs": [
    {
     "name": "stdout",
     "output_type": "stream",
     "text": [
      "--- 30.3281 seconds ---\n"
     ]
    }
   ],
   "source": [
    "from gensim.test.utils import common_texts\n",
    "from gensim.models.doc2vec import Doc2Vec, TaggedDocument\n",
    "from gensim.test.utils import get_tmpfile\n",
    "from gensim.models import KeyedVectors\n",
    "import gensim.models as g\n",
    "\n",
    "firstTime = time.time()\n",
    "#documents = [TaggedDocument(doc, [i]) for i, doc in enumerate(abstractsPro)]\n",
    "modelLNK = \"C:\\\\Users\\\\Admin\\\\Downloads\\\\enwiki_dbow\\\\doc2vec.bin\"\n",
    "\n",
    "\n",
    "#inference hyper-parameters\n",
    "start_alpha=0.01\n",
    "infer_epoch=1000\n",
    " \n",
    "#load model\n",
    "\n",
    "model = g.Doc2Vec.load(modelLNK)\n",
    "#model = Doc2Vec(documents, vector_size=5, window=2, min_count=1, workers=4)\n",
    "\n",
    "#embeddings_index = KeyedVectors.load_word2vec_format(modelLNK, binary=True)\n",
    "embeddings_index = model.wv\n",
    "\n",
    "\n",
    "# # Save file and load it again\n",
    "# fname = get_tmpfile(\"my_doc2vec_model\")\n",
    "\n",
    "# model.save(fname)\n",
    "# model = Doc2Vec.load(fname)  # you can continue training with the loaded model!\n",
    "# #delete traingmode (save memmory)\n",
    "# model.delete_temporary_training_data(keep_doctags_vectors=True, keep_inference=True)\n",
    "print (\"--- %s seconds ---\" % round(time.time()-firstTime,4))"
   ]
  },
  {
   "cell_type": "code",
   "execution_count": 17,
   "metadata": {},
   "outputs": [],
   "source": [
    "embeddings_index = model.wv"
   ]
  },
  {
   "cell_type": "code",
   "execution_count": 13,
   "metadata": {},
   "outputs": [
    {
     "data": {
      "text/plain": [
       "<gensim.models.keyedvectors.Word2VecKeyedVectors at 0x1d0b5c335c8>"
      ]
     },
     "execution_count": 13,
     "metadata": {},
     "output_type": "execute_result"
    }
   ],
   "source": [
    "embeddings_index"
   ]
  },
  {
   "cell_type": "markdown",
   "metadata": {},
   "source": [
    "compares the word of the embedding with the words of our text"
   ]
  },
  {
   "cell_type": "code",
   "execution_count": 51,
   "metadata": {},
   "outputs": [],
   "source": [
    "# source https://www.kaggle.com/christofhenkel/how-to-preprocessing-when-using-embeddings/comments\n",
    "import operator \n",
    "\n",
    "def check_coverage(vocab,embeddings_index):\n",
    "    a = {}\n",
    "    oov = {}\n",
    "    k = 0\n",
    "    i = 0\n",
    "    for word in tqdm(vocab):\n",
    "        try:\n",
    "            a[word] = embeddings_index[word]\n",
    "            k += vocab[word]\n",
    "        except:\n",
    "\n",
    "            oov[word] = vocab[word]\n",
    "            i += vocab[word]\n",
    "            pass\n",
    "\n",
    "    print('Found embeddings for {:.2%} of vocab'.format(len(a) / len(vocab)))\n",
    "    print('Found embeddings for  {:.2%} of all text'.format(k / (k + i)))\n",
    "    sorted_x = sorted(oov.items(), key=operator.itemgetter(1))[::-1]\n",
    "\n",
    "    return sorted_x"
   ]
  },
  {
   "cell_type": "code",
   "execution_count": 86,
   "metadata": {},
   "outputs": [
    {
     "name": "stderr",
     "output_type": "stream",
     "text": [
      "100%|██████████████████████████████████████████████████████████████████████████| 2357/2357 [00:00<00:00, 138738.84it/s]\n"
     ]
    },
    {
     "name": "stdout",
     "output_type": "stream",
     "text": [
      "Found embeddings for 98.13% of vocab\n",
      "Found embeddings for  99.32% of all text\n"
     ]
    }
   ],
   "source": [
    "oov = check_coverage(vocab,embeddings_index)"
   ]
  },
  {
   "cell_type": "code",
   "execution_count": 87,
   "metadata": {},
   "outputs": [
    {
     "data": {
      "text/plain": [
       "[('esns', 5),\n",
       " ('ldct', 5),\n",
       " ('nlst', 5),\n",
       " ('dateness', 4),\n",
       " ('unclustered', 4),\n",
       " ('dbns', 4),\n",
       " ('svdd', 4),\n",
       " ('cnns', 4),\n",
       " ('fmultimoora', 3),\n",
       " ('2019.', 2),\n",
       " ('10,865', 2),\n",
       " ('0.758', 2),\n",
       " ('2020.', 1),\n",
       " ('multidisplinary', 1),\n",
       " ('reskill', 1),\n",
       " ('gmms', 1),\n",
       " ('531.', 1),\n",
       " ('ophtha', 1),\n",
       " ('inbreast', 1),\n",
       " ('microaneurysm', 1)]"
      ]
     },
     "execution_count": 87,
     "metadata": {},
     "output_type": "execute_result"
    }
   ],
   "source": [
    "oov[:20]"
   ]
  },
  {
   "cell_type": "code",
   "execution_count": 88,
   "metadata": {},
   "outputs": [
    {
     "name": "stdout",
     "output_type": "stream",
     "text": [
      "!  in the embedding:  True\n",
      "\"  in the embedding:  False\n",
      "#  in the embedding:  True\n",
      "$  in the embedding:  True\n",
      "%  in the embedding:  True\n",
      "&  in the embedding:  True\n",
      "'  in the embedding:  True\n",
      "(  in the embedding:  False\n",
      ")  in the embedding:  False\n",
      "*  in the embedding:  True\n",
      "+  in the embedding:  True\n",
      ",  in the embedding:  True\n",
      "-  in the embedding:  True\n",
      ".  in the embedding:  True\n",
      "/  in the embedding:  True\n",
      ":  in the embedding:  True\n",
      ";  in the embedding:  True\n",
      "<  in the embedding:  True\n",
      "=  in the embedding:  True\n",
      ">  in the embedding:  True\n",
      "?  in the embedding:  True\n",
      "@  in the embedding:  True\n",
      "[  in the embedding:  False\n",
      "\\  in the embedding:  True\n",
      "]  in the embedding:  False\n",
      "^  in the embedding:  True\n",
      "_  in the embedding:  True\n",
      "`  in the embedding:  True\n",
      "{  in the embedding:  False\n",
      "|  in the embedding:  True\n",
      "}  in the embedding:  False\n",
      "~  in the embedding:  True\n",
      "’  in the embedding:  False\n",
      "”  in the embedding:  False\n",
      "“  in the embedding:  False\n",
      "—  in the embedding:  False\n"
     ]
    }
   ],
   "source": [
    "punctuationList = string.punctuation \n",
    "punctuationList = punctuationList+\"’\" + \"”\" + \"“\"+\"—\"\n",
    "for punctuation in punctuationList:\n",
    "    print(punctuation, \" in the embedding: \",punctuation in embeddings_index)"
   ]
  },
  {
   "cell_type": "code",
   "execution_count": 97,
   "metadata": {
    "scrolled": true
   },
   "outputs": [
    {
     "name": "stdout",
     "output_type": "stream",
     "text": [
      "the\n",
      ",\n",
      ".\n",
      "of\n",
      "and\n",
      "in\n",
      "a\n",
      "to\n",
      "was\n",
      "''\n",
      "``\n",
      "is\n",
      "for\n",
      "-rrb-\n",
      "-lrb-\n",
      "as\n",
      "on\n",
      "with\n",
      "by\n",
      "he\n"
     ]
    }
   ],
   "source": [
    "for i in range(20):\n",
    "    print(embeddings_index.index2entity[i])\n",
    "#TODO: -LRB- and -RRB- are currently used instead of \"(\" and \")\" .... also  ” to \" .... also -- has to has a meaning (maybe a placehoder for numbers like in https://www.kaggle.com/christofhenkel/how-to-preprocessing-when-using-embeddings/comments)"
   ]
  },
  {
   "cell_type": "code",
   "execution_count": 139,
   "metadata": {},
   "outputs": [],
   "source": [
    "#vector = model.infer_vector([\"system\", \"und jetzt\"]) \n",
    "#model.docvecs.most_similar(5)"
   ]
  },
  {
   "cell_type": "code",
   "execution_count": 98,
   "metadata": {},
   "outputs": [
    {
     "name": "stdout",
     "output_type": "stream",
     "text": [
      "--- 148.2506 seconds ---\n"
     ]
    }
   ],
   "source": [
    "firstTime = time.time()\n",
    "vectors = []\n",
    "# for x,y in documents:\n",
    "#     vectors.append(model.docvecs[y[0]]) \n",
    "for text in abstractsPro:\n",
    "    vectors.append(model.infer_vector(text))\n",
    "print (\"--- %s seconds ---\" % round(time.time()-firstTime,4))"
   ]
  },
  {
   "cell_type": "code",
   "execution_count": 104,
   "metadata": {},
   "outputs": [
    {
     "data": {
      "text/plain": [
       "array([ 1.60376951e-02, -2.35308498e-01, -1.18354857e-01, -1.02248840e-01,\n",
       "       -5.22841476e-02,  9.46073458e-02,  4.57842015e-02, -3.23922047e-03,\n",
       "       -1.47295386e-01,  1.06221683e-01, -2.64518738e-01, -2.12970302e-01,\n",
       "       -7.18091428e-02, -2.32401431e-01,  8.43367726e-02,  1.38983846e-01,\n",
       "       -1.05704449e-01,  3.97593006e-02,  3.24011147e-02, -8.67493600e-02,\n",
       "        1.78713784e-01, -7.66739156e-03,  6.42504692e-02, -9.14003104e-02,\n",
       "        4.45874035e-02,  3.02400198e-02, -6.46890774e-02, -1.11423209e-02,\n",
       "       -1.39129207e-01, -2.49461681e-01, -3.26337099e-01,  1.42127663e-01,\n",
       "       -5.24813570e-02, -1.39265969e-01,  6.00566417e-02, -2.96140909e-01,\n",
       "        2.13818308e-02,  3.86159182e-01,  5.88212609e-02, -3.91192036e-03,\n",
       "       -4.20305990e-02,  7.99349919e-02,  3.35499048e-02,  1.10244542e-01,\n",
       "        2.61178464e-01, -4.65880334e-02,  8.04468840e-02,  2.47356459e-01,\n",
       "        2.46205796e-02, -5.98564111e-02, -1.92814648e-01,  8.30861703e-02,\n",
       "        6.16291203e-02, -1.25188306e-01,  3.48083004e-02, -6.66918457e-02,\n",
       "        3.14040184e-01, -3.68141159e-02, -4.27776217e-01,  5.21994568e-02,\n",
       "       -2.12565914e-01, -1.41474366e-01, -1.50974676e-01, -1.66182727e-01,\n",
       "        2.29947671e-01,  1.34606928e-01, -2.23249376e-01, -2.75682837e-01,\n",
       "        1.79573649e-03, -2.54231364e-01,  3.80471274e-02, -2.00299263e-01,\n",
       "       -1.97137639e-01,  1.33275732e-01, -7.00568408e-02,  1.92030370e-01,\n",
       "        1.06473953e-01,  1.61052465e-01,  3.45887765e-02, -1.18460052e-01,\n",
       "       -4.84021716e-02, -1.98630095e-01, -3.37927416e-02,  1.32541418e-01,\n",
       "       -3.22714210e-01, -9.05629545e-02, -1.48752972e-01, -1.50736332e-01,\n",
       "       -1.34437948e-01, -2.13459972e-02, -1.57272201e-02, -3.18891108e-02,\n",
       "        3.90483201e-01, -2.30986759e-01, -2.17209488e-01,  5.99982403e-02,\n",
       "       -1.54245019e-01, -6.11239038e-02,  1.60956595e-04, -2.03689680e-01,\n",
       "        2.97696646e-02,  5.99728934e-02, -7.27887973e-02, -4.56450880e-02,\n",
       "        2.90154189e-01, -1.24934800e-01,  6.75339177e-02,  1.52187929e-01,\n",
       "       -1.68662779e-02, -1.87817201e-01, -1.49638146e-01, -1.68956533e-01,\n",
       "        1.68028116e-01,  9.03105736e-02, -3.89740653e-02, -1.67891830e-01,\n",
       "       -2.41599441e-01,  2.84923590e-03,  1.85031414e-01, -5.89742325e-02,\n",
       "        9.11115110e-02, -3.60280722e-01, -9.88000724e-03,  1.30916715e-01,\n",
       "       -1.19587451e-01,  2.70470262e-01,  1.82287619e-01, -1.55394018e-01,\n",
       "        1.85854509e-01,  4.60865572e-02,  4.24030982e-02,  1.67928070e-01,\n",
       "        9.58088636e-02,  1.35783732e-01,  7.23542273e-02,  7.92102516e-02,\n",
       "       -1.65126652e-01, -2.31965840e-01,  9.33419988e-02,  4.54815961e-02,\n",
       "        1.55797735e-01,  1.80812210e-01,  2.47090496e-02,  1.70407206e-01,\n",
       "        7.51469880e-02,  1.66994870e-01, -3.14366698e-01,  5.88384271e-02,\n",
       "        3.53491575e-01,  1.99594602e-01, -2.84231156e-01,  1.26475971e-02,\n",
       "       -1.45793175e-02, -2.27565497e-01,  3.27120237e-02,  1.12663545e-01,\n",
       "        2.44137034e-01, -3.87706310e-01, -1.50471583e-01,  9.61964503e-02,\n",
       "        1.41736135e-01,  2.16264024e-01, -2.96522956e-02,  1.11765072e-01,\n",
       "        1.67843252e-02, -3.36115025e-02,  1.84437055e-02, -1.14074327e-01,\n",
       "       -9.64685623e-03,  4.02981527e-02,  1.38603330e-01, -3.65777873e-02,\n",
       "        9.17452946e-02, -2.53871709e-01,  2.79676855e-01,  4.47714962e-02,\n",
       "       -4.01275277e-01,  9.66775343e-02, -6.98588565e-02,  7.27252662e-02,\n",
       "       -1.25516742e-01,  4.74973917e-01,  2.57337205e-02, -2.35818177e-01,\n",
       "        1.94750637e-01, -1.72890708e-01,  8.65801498e-02, -5.71132936e-02,\n",
       "        1.07331246e-01,  3.32089216e-01, -7.17916042e-02, -3.67255539e-01,\n",
       "        1.18150733e-01,  2.14355990e-01,  6.39425963e-02, -3.83045763e-01,\n",
       "        1.65773526e-01,  1.08651496e-01, -1.41215310e-01, -2.59336442e-01,\n",
       "        1.01181872e-01, -2.38825306e-01,  1.71680138e-01, -3.81041206e-02,\n",
       "       -4.54584844e-02,  1.37077635e-02, -1.63812693e-02, -1.69037674e-02,\n",
       "       -9.49009582e-02, -1.55457491e-02,  3.65962684e-01,  3.34711671e-01,\n",
       "       -2.81666070e-01,  2.92662770e-01, -4.29508016e-02,  1.63881183e-01,\n",
       "        4.24227770e-03, -1.42451376e-01,  5.35437651e-02, -1.76024765e-01,\n",
       "        9.81142595e-02,  4.33759093e-02,  2.52261221e-01,  1.03031963e-01,\n",
       "       -1.03091687e-01, -1.24933891e-01, -1.57760605e-01, -1.23412624e-01,\n",
       "       -1.60872594e-01, -1.84141189e-01,  2.63086315e-02,  4.06042859e-02,\n",
       "        2.17591539e-01, -8.31449628e-02,  2.56246805e-01, -2.23869190e-01,\n",
       "        3.91808338e-02, -9.29102376e-02, -1.38354391e-01,  1.23508677e-01,\n",
       "        5.72843151e-03, -8.25334862e-02, -5.03422990e-02,  2.38371253e-01,\n",
       "        4.40361053e-02, -2.79551208e-01, -2.55236570e-02, -1.56241074e-01,\n",
       "       -6.52269423e-02, -8.64003599e-03, -2.39913657e-01, -6.41457411e-03,\n",
       "        5.10676801e-01, -2.40265429e-01,  1.31787790e-03,  1.81785211e-01,\n",
       "        2.76218802e-01, -1.75187141e-01,  7.30401054e-02,  1.09520182e-01,\n",
       "        8.30063075e-02,  5.29217385e-02,  2.02976670e-02, -2.43331119e-01,\n",
       "       -2.63228059e-01, -1.15456961e-01, -2.48750020e-02, -2.13319082e-02,\n",
       "       -1.35120139e-01, -6.11446127e-02,  1.36308715e-01,  7.79664591e-02,\n",
       "       -3.05876900e-02,  2.31605873e-01, -4.64396589e-02, -1.62105903e-01,\n",
       "        1.13390289e-01, -1.64507195e-01,  3.41117531e-01, -1.45716265e-01,\n",
       "       -6.17553331e-02,  1.22229666e-01, -1.06380768e-01,  2.33382955e-01,\n",
       "        2.22226128e-01,  8.29035863e-02, -1.78657010e-01, -7.68070221e-02,\n",
       "       -1.75349012e-01, -1.98322669e-01, -1.76946416e-01, -3.90286446e-02,\n",
       "       -3.31527352e-01, -1.64278582e-01, -6.26168922e-02,  1.10978563e-03,\n",
       "       -2.29002237e-02, -1.34042442e-01, -2.16753129e-02, -4.83312868e-02],\n",
       "      dtype=float32)"
      ]
     },
     "execution_count": 104,
     "metadata": {},
     "output_type": "execute_result"
    }
   ],
   "source": [
    "vectors[1]"
   ]
  },
  {
   "cell_type": "code",
   "execution_count": 183,
   "metadata": {},
   "outputs": [],
   "source": [
    "# from sklearn.manifold import TSNE\n",
    "# import pandas as pd\n",
    "\n",
    "# tsne = TSNE(n_components=2, random_state=30)\n",
    "\n",
    "# matrix_2D = tsne.fit_transform(vectors)\n",
    "# points = pd.DataFrame(matrix_2D,columns=[\"x\",\"y\"])\n",
    "# points[\"word\"]= range(52)"
   ]
  },
  {
   "cell_type": "code",
   "execution_count": 203,
   "metadata": {},
   "outputs": [
    {
     "data": {
      "text/plain": [
       "<matplotlib.axes._subplots.AxesSubplot at 0x1c6d9b94a88>"
      ]
     },
     "execution_count": 203,
     "metadata": {},
     "output_type": "execute_result"
    },
    {
     "data": {
      "image/png": "[encoded data removed]",
      "text/plain": [
       "<Figure size 1440x864 with 1 Axes>"
      ]
     },
     "metadata": {
      "needs_background": "light"
     },
     "output_type": "display_data"
    }
   ],
   "source": [
    "# points.plot.scatter(\"x\",\"y\",s=10, figsize= (20,12))"
   ]
  },
  {
   "cell_type": "markdown",
   "metadata": {},
   "source": [
    "# Bag of words"
   ]
  },
  {
   "cell_type": "markdown",
   "metadata": {},
   "source": [
    "Function for calling bag of words"
   ]
  },
  {
   "cell_type": "code",
   "execution_count": null,
   "metadata": {},
   "outputs": [],
   "source": [
    "from sklearn.feature_extraction.text import TfidfVectorizer\n",
    "#Term Frequency (TF) and TF-IDF \n",
    "#useInverse = True = TF-IDF else TF\n",
    "\n",
    "def bagOfWords(docs, useInverse,preProcessFunc,min_df=0.1, max_df=0.3): #procentual or absolute is a valide input\n",
    "    if not useInverse:\n",
    "        vectorizer = TfidfVectorizer(use_idf=False, norm='l1',tokenizer = preProcessFunc,min_df=min_df, max_df=max_df)\n",
    "    else:\n",
    "        vectorizer = TfidfVectorizer(tokenizer = preProcessFunc,min_df=min_df, max_df=max_df)\n",
    "    matrix = vectorizer.fit_transform(docs)\n",
    "    return pd.DataFrame(matrix.toarray(), columns=vectorizer.get_feature_names())"
   ]
  },
  {
   "cell_type": "code",
   "execution_count": null,
   "metadata": {},
   "outputs": [],
   "source": [
    "def sumPreprocessBoW(text):\n",
    "    return applyLemmatizing(removeStopwords(tokenize(text)))\n",
    "\n",
    "firstTime = time.time()\n",
    "vectorsBoW = bagOfWords(cutHotelData, True, sumPreprocessBoW)\n",
    "print (\"--- %s seconds ---\" % round(time.time()-firstTime,4))"
   ]
  },
  {
   "cell_type": "code",
   "execution_count": null,
   "metadata": {},
   "outputs": [],
   "source": [
    "vectorsBoW"
   ]
  },
  {
   "cell_type": "markdown",
   "metadata": {},
   "source": [
    "# Clustering"
   ]
  },
  {
   "cell_type": "code",
   "execution_count": 109,
   "metadata": {},
   "outputs": [
    {
     "name": "stdout",
     "output_type": "stream",
     "text": [
      "--- 1.028 seconds ---\n"
     ]
    }
   ],
   "source": [
    "from sklearn.cluster import KMeans\n",
    "firstTime = time.time()\n",
    "kmeans = KMeans(n_clusters=4, random_state=0).fit(vectors)\n",
    "print (\"--- %s seconds ---\" % round(time.time()-firstTime,4))"
   ]
  },
  {
   "cell_type": "code",
   "execution_count": 122,
   "metadata": {},
   "outputs": [
    {
     "name": "stdout",
     "output_type": "stream",
     "text": [
      "[3 0 3 0 1 0 0 1 1 3 3 3 3 3 1 3 3 3 3 3 3 3 3 0 1 0 3 3 0 3 3 3 2 3 3 3 0\n",
      " 0 0 0 0 0 0 1] \n",
      "\n",
      "Ammmount of clusters:\n",
      " 4 \n",
      "\n",
      "Ammount of paper per cluster:\n",
      " 3    23\n",
      "0    14\n",
      "1     6\n",
      "2     1\n",
      "dtype: int64 \n",
      "\n"
     ]
    }
   ],
   "source": [
    "clusterResults = kmeans.labels_\n",
    "print(clusterResults,\"\\n\")\n",
    "difCluster = pd.Series(clusterResults).value_counts()\n",
    "print(\"Ammmount of clusters:\\n\", len(difCluster),\"\\n\")\n",
    "print(\"Ammount of paper per cluster:\\n\", difCluster,\"\\n\")\n",
    "\n",
    "papersPerCluster = {}\n",
    "for cluster in range(len(difCluster)):\n",
    "    papersPerCluster[cluster] = pd.Series(abstractsUsed)[kmeans.labels_==cluster]"
   ]
  },
  {
   "cell_type": "code",
   "execution_count": 123,
   "metadata": {},
   "outputs": [
    {
     "data": {
      "text/plain": [
       "1     \\n               Abstract\\n               \\n  ...\n",
       "3     \\n               \\n                  Artificia...\n",
       "5     \\n               Abstract\\n               \\n  ...\n",
       "6     \\n               Abstract\\n               \\n  ...\n",
       "23    \\n               Abstract\\n               \\n  ...\n",
       "25    \\n               Abstract\\n               \\n  ...\n",
       "28    \\n               Abstract\\n               \\n  ...\n",
       "36    \\n               Abstract\\n               \\n  ...\n",
       "37    \\n               \\n                  The AUR A...\n",
       "38    \\n               \\n                  Artificia...\n",
       "39    \\n               Abstract\\n               \\n  ...\n",
       "40    \\n               Abstract\\n               \\n  ...\n",
       "41    \\n               Abstract\\n               \\n  ...\n",
       "42    \\n               Abstract\\n               \\n  ...\n",
       "dtype: object"
      ]
     },
     "execution_count": 123,
     "metadata": {},
     "output_type": "execute_result"
    }
   ],
   "source": [
    "papersPerCluster[0]"
   ]
  }
 ],
 "metadata": {
  "kernelspec": {
   "display_name": "Python 3",
   "language": "python",
   "name": "python3"
  },
  "language_info": {
   "codemirror_mode": {
    "name": "ipython",
    "version": 3
   },
   "file_extension": ".py",
   "mimetype": "text/x-python",
   "name": "python",
   "nbconvert_exporter": "python",
   "pygments_lexer": "ipython3",
   "version": "3.7.4"
  }
 },
 "nbformat": 4,
 "nbformat_minor": 2
}
