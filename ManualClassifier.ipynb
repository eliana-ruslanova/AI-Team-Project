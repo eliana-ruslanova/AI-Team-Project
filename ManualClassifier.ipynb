{
 "cells": [
  {
   "cell_type": "code",
   "execution_count": 2,
   "metadata": {},
   "outputs": [],
   "source": [
    "import json\n",
    "import os\n",
    "import glob\n",
    "%run Subfield.ipynb"
   ]
  },
  {
   "cell_type": "code",
   "execution_count": 3,
   "metadata": {},
   "outputs": [],
   "source": [
    "def categorise(text, categories):\n",
    "    subfields = []\n",
    "    for category in categories:\n",
    "        for keyword in category.keywords:\n",
    "            if (text.__contains__(str(keyword))):\n",
    "                if not(subfields.__contains__(category.name)):\n",
    "                    subfields.append(category.name)\n",
    "    return subfields"
   ]
  },
  {
   "cell_type": "code",
   "execution_count": 17,
   "metadata": {},
   "outputs": [],
   "source": [
    "diagnosis = Subfield(\"Diagnosis\", [\"diagnos\", \"detect\", \"medical imag\", \"mri\", \"radiolog\", \"patholog\", \"audit\"])\n",
    "prognosis = Subfield(\"Prognosis\", [\"prognos\", \"predict\"])\n",
    "drug_discovery = Subfield(\"Drug Discovery\", [\"drug discovery\", \"drug design\", \"drug development\"])\n",
    "treatment = Subfield(\"Treatment\", [\"treatment\", \"personali\", \"therap\", \"prescription\", \"patient care\", \"dosing\", \"individualiz\", \"individualis\"])\n",
    "surgery = Subfield(\"Surgery\", [\"surgery\"])\n",
    "epidemiology = Subfield(\"Epidemiology\", [\"epidemi\", \"pandemi\"])\n",
    "robotics = Subfield(\"Robotics\", [\"robot\", \"autonom\", \"neuro-prosthetics\", \"brain computer interface\"])\n",
    "smart_healthcare = Subfield(\"Smart Healthcare\", [\"smart\", \"administrat\", \"analytics\", \"data process\", \"data manag\", \"data science\", \"data collect\",\n",
    "                                                \"care data\", \"patient flow\", \"cost\", \"interoperability\", \"privacy\", \"digitali\",\n",
    "                                                \"communicat\", \"e-health\", \"emr\", \"decision support\", \"data mining\", \"data security\"])\n",
    "subfields = [diagnosis, prognosis, drug_discovery, treatment, surgery, epidemiology, robotics, smart_healthcare]"
   ]
  },
  {
   "cell_type": "code",
   "execution_count": 8,
   "metadata": {},
   "outputs": [],
   "source": [
    "review = Subfield(\"Literature Review\", [\"review\", \"survey\", \"summary\", \"overview\"])\n",
    "literature_types = [review]"
   ]
  },
  {
   "cell_type": "code",
   "execution_count": 9,
   "metadata": {},
   "outputs": [
    {
     "name": "stdout",
     "output_type": "stream",
     "text": [
      "https%3A%2F%2Fapi.elsevier.com%2Fcontent%2Farticle%2Fpii%2FS0009912018311974.json\n",
      "['Literature Review']\n",
      "https%3A%2F%2Fapi.elsevier.com%2Fcontent%2Farticle%2Fpii%2FS027263861930842X.json\n",
      "['Literature Review']\n",
      "https%3A%2F%2Fapi.elsevier.com%2Fcontent%2Farticle%2Fpii%2FS0933365717305663.json\n",
      "['Literature Review']\n",
      "https%3A%2F%2Fapi.elsevier.com%2Fcontent%2Farticle%2Fpii%2FS0933365718304548.json\n",
      "['Literature Review']\n",
      "https%3A%2F%2Fapi.elsevier.com%2Fcontent%2Farticle%2Fpii%2FS0933365718305918.json\n",
      "['Literature Review']\n",
      "https%3A%2F%2Fapi.elsevier.com%2Fcontent%2Farticle%2Fpii%2FS093336571930226X.json\n",
      "['Literature Review']\n",
      "https%3A%2F%2Fapi.elsevier.com%2Fcontent%2Farticle%2Fpii%2FS0933365719303951.json\n",
      "['Literature Review']\n",
      "https%3A%2F%2Fapi.elsevier.com%2Fcontent%2Farticle%2Fpii%2FS0933365719305858.json\n",
      "['Literature Review']\n",
      "https%3A%2F%2Fapi.elsevier.com%2Fcontent%2Farticle%2Fpii%2FS0933365719306505.json\n",
      "['Literature Review']\n",
      "https%3A%2F%2Fapi.elsevier.com%2Fcontent%2Farticle%2Fpii%2FS1076633219304428.json\n",
      "['Literature Review']\n",
      "https%3A%2F%2Fapi.elsevier.com%2Fcontent%2Farticle%2Fpii%2FS1076633219304581.json\n",
      "['Literature Review']\n",
      "https%3A%2F%2Fapi.elsevier.com%2Fcontent%2Farticle%2Fpii%2FS1473050218301721.json\n",
      "['Literature Review']\n",
      "https%3A%2F%2Fapi.elsevier.com%2Fcontent%2Farticle%2Fpii%2FS2211883718301758.json\n",
      "['Literature Review']\n",
      "https%3A%2F%2Fapi.elsevier.com%2Fcontent%2Farticle%2Fpii%2FS235208171930193X.json\n",
      "['Literature Review']\n",
      "https%3A%2F%2Fapi.elsevier.com%2Fcontent%2Farticle%2Fpii%2FS2452318620300192.json\n",
      "['Literature Review']\n"
     ]
    }
   ],
   "source": [
    "path_in = \"manual/\"\n",
    "path_out = \"automatic/\"\n",
    "for filename in os.listdir(path_in):\n",
    "    with open(os.path.join(path_in, filename), 'r') as f_in:\n",
    "        data = f_in.read()\n",
    "        obj = json.loads(data)\n",
    "        if(obj[\"coredata\"][\"dc:description\"] is None):\n",
    "            continue\n",
    "            \n",
    "        text = obj[\"coredata\"][\"dc:title\"]\n",
    "        text = text + obj[\"coredata\"][\"dc:description\"]\n",
    "        print(filename)\n",
    "       \n",
    "        assigned_lit_type = categorise(text.lower(), literature_types)\n",
    "        if(assigned_lit_type):\n",
    "            print(assigned_lit_type)\n",
    "            \n",
    "        assigned_subfields = categorise(text.lower(), subfields)\n",
    "        if assigned_subfields:\n",
    "            obj[\"classified\"] = assigned_subfields\n",
    "        print(\"Subfield: \" + str(obj[\"subfield\"]))\n",
    "        print(\"Classified as: \" + str(obj[\"classified\"]))\n",
    "        \n",
    "        #classified = {\"classified\":\"None\"}\n",
    "        #obj.update(classified)\n",
    "        \n",
    "        with open(os.path.join(path_out, filename), 'w') as f_out:\n",
    "            json.dump(obj, f_out)\n",
    "            f_out.close()\n",
    "        f_in.close()\n",
    "\n"
   ]
  },
  {
   "cell_type": "code",
   "execution_count": null,
   "metadata": {},
   "outputs": [],
   "source": []
  }
 ],
 "metadata": {
  "kernelspec": {
   "display_name": "Python 3",
   "language": "python",
   "name": "python3"
  },
  "language_info": {
   "codemirror_mode": {
    "name": "ipython",
    "version": 3
   },
   "file_extension": ".py",
   "mimetype": "text/x-python",
   "name": "python",
   "nbconvert_exporter": "python",
   "pygments_lexer": "ipython3",
   "version": "3.8.2"
  }
 },
 "nbformat": 4,
 "nbformat_minor": 4
}
