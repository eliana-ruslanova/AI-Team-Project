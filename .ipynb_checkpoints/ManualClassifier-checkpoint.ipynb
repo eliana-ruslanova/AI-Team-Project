{
 "cells": [
  {
   "cell_type": "code",
   "execution_count": 12,
   "metadata": {},
   "outputs": [],
   "source": [
    "import json\n",
    "import os\n",
    "import glob\n",
    "%run Subfield.ipynb"
   ]
  },
  {
   "cell_type": "code",
   "execution_count": 33,
   "metadata": {},
   "outputs": [],
   "source": [
    "def categorise(text, categories):\n",
    "    subfields = []\n",
    "    for category in categories:\n",
    "        for keyword in category.keywords:\n",
    "            if (text.__contains__(str(keyword))):\n",
    "                if not(subfields.__contains__(category.name)):\n",
    "                    subfields.append(category.name)\n",
    "    return subfields"
   ]
  },
  {
   "cell_type": "code",
   "execution_count": 34,
   "metadata": {},
   "outputs": [],
   "source": [
    "diagnosis = Subfield(\"Diagnosis\", [\"diagnos\", \"detect\", \"medical imag\", \"mri\", \"radiolog\", \"patholog\"])\n",
    "prognosis = Subfield(\"Prognosis\", [\"prognos\", \"predict\"])\n",
    "drug_discovery = Subfield(\"Drug Discovery\", [\"drug discovery\", \"drug design\", \"drug development\"])\n",
    "treatment = Subfield(\"Treatment\", [\"treatment\", \"personali\", \"therap\"])\n",
    "surgery = Subfield(\"Surgery\", [\"surg\"])\n",
    "epidemiology = Subfield(\"Epidemiology\", [\"epidemi\", \"pandemi\"])\n",
    "robotics = Subfield(\"Robotics\", [\"robot\", \"autonom\"])\n",
    "smart_healthcare = Subfield(\"Smart Healthcare\", [\"smart\", \"administrat\", \"analytics\", \"data process\", \"data manag\"])\n",
    "subfields = [diagnosis, prognosis, drug_discovery, treatment, surgery, epidemiology, robotics, smart_healthcare]"
   ]
  },
  {
   "cell_type": "code",
   "execution_count": 44,
   "metadata": {},
   "outputs": [],
   "source": [
    "path_in = \"manual/\"\n",
    "path_out = \"automatic/\"\n",
    "for filename in os.listdir(path_in):\n",
    "    with open(os.path.join(path_in, filename), 'r') as f_in:\n",
    "        data = f_in.read()\n",
    "        obj = json.loads(data)\n",
    "        if(obj[\"coredata\"][\"dc:description\"] is None):\n",
    "            continue\n",
    "            \n",
    "        text = obj[\"coredata\"][\"dc:title\"]\n",
    "        text = text + obj[\"coredata\"][\"dc:description\"]\n",
    "        assigned_subfields = categorise(text.lower(), subfields)\n",
    "        if assigned_subfields:\n",
    "            obj[\"classified\"] = assigned_subfields\n",
    "        print(obj[\"classified\"])\n",
    "        \n",
    "        #classified = {\"classified\":\"None\"}\n",
    "        #obj.update(classified)\n",
    "        \n",
    "        with open(os.path.join(path_out, filename), 'w') as f_out:\n",
    "            json.dump(obj, f_out)\n",
    "            f_out.close()\n",
    "        f_in.close()\n",
    "\n"
   ]
  },
  {
   "cell_type": "code",
   "execution_count": null,
   "metadata": {},
   "outputs": [],
   "source": []
  }
 ],
 "metadata": {
  "kernelspec": {
   "display_name": "Python 3",
   "language": "python",
   "name": "python3"
  },
  "language_info": {
   "codemirror_mode": {
    "name": "ipython",
    "version": 3
   },
   "file_extension": ".py",
   "mimetype": "text/x-python",
   "name": "python",
   "nbconvert_exporter": "python",
   "pygments_lexer": "ipython3",
   "version": "3.8.2"
  }
 },
 "nbformat": 4,
 "nbformat_minor": 4
}
